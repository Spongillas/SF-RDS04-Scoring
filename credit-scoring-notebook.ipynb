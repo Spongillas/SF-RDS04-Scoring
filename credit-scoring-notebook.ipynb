{
 "cells": [
  {
   "cell_type": "markdown",
   "execution_count": null,
   "metadata": {},
   "source": [
    "# Проект 4. Итоговый вызов. Компьютер говорит «Нет»\n",
    "### Скороходов Андрей (DST10)"
   ]
  },
  {
   "cell_type": "markdown",
   "execution_count": null,
   "metadata": {},
   "source": [
    "### Импорт библиотек"
   ]
  },
  {
   "cell_type": "code",
   "execution_count": 1,
   "metadata": {
    "_cell_guid": "b1076dfc-b9ad-4769-8c92-a6c4dae69d19",
    "_uuid": "8f2839f25d086af736a60e9eeb907d3b93b6e0e5"
   },
   "outputs": [
    {
     "name": "stdout",
     "output_type": "stream",
     "text": [
      "/kaggle/input/sf-dst-scoring/sample_submission.csv\n",
      "/kaggle/input/sf-dst-scoring/test.csv\n",
      "/kaggle/input/sf-dst-scoring/train.csv\n"
     ]
    }
   ],
   "source": [
    "import pandas as pd\n",
    "from pandas import Series\n",
    "import numpy as np\n",
    "import random\n",
    "\n",
    "import matplotlib.pyplot as plt\n",
    "import seaborn as sns\n",
    "\n",
    "from sklearn.feature_selection import f_classif, mutual_info_classif\n",
    "from sklearn.preprocessing import LabelEncoder, OneHotEncoder, StandardScaler\n",
    "\n",
    "from sklearn.model_selection import train_test_split\n",
    "from sklearn.linear_model import LogisticRegression\n",
    "\n",
    "\n",
    "from sklearn.metrics import confusion_matrix\n",
    "from sklearn.metrics import auc, roc_auc_score, roc_curve\n",
    "from sklearn.metrics import accuracy_score, precision_score, recall_score, f1_score\n",
    "\n",
    "from sklearn.model_selection import cross_val_score\n",
    "\n",
    "import os\n",
    "for dirname, _, filenames in os.walk('/kaggle/input'):\n",
    "    for filename in filenames:\n",
    "        print(os.path.join(dirname, filename))\n",
    "        \n",
    "import warnings\n",
    "warnings.filterwarnings(\"ignore\")"
   ]
  },
  {
   "cell_type": "code",
   "execution_count": 2,
   "metadata": {},
   "outputs": [],
   "source": [
    "RANDOM_SEED = 42\n",
    "!pip freeze > requirements.txt"
   ]
  },
  {
   "cell_type": "markdown",
   "execution_count": null,
   "metadata": {},
   "source": [
    "### Загрузка данных"
   ]
  },
  {
   "cell_type": "code",
   "execution_count": 3,
   "metadata": {},
   "outputs": [],
   "source": [
    "train = pd.read_csv('/kaggle/input/sf-dst-scoring/train.csv')\n",
    "test= pd.read_csv('/kaggle/input/sf-dst-scoring/test.csv')"
   ]
  },
  {
   "cell_type": "code",
   "execution_count": 4,
   "metadata": {},
   "outputs": [
    {
     "name": "stdout",
     "output_type": "stream",
     "text": [
      "Размерность тренировочной выборки:  (73799, 19)\n",
      "Размерность тестовой выборки:  (36349, 18)\n"
     ]
    }
   ],
   "source": [
    "print('Размерность тренировочной выборки: ', train.shape)\n",
    "print('Размерность тестовой выборки: ', test.shape)"
   ]
  },
  {
   "cell_type": "markdown",
   "execution_count": null,
   "metadata": {},
   "source": [
    "Описания полей датасета\n",
    "\n",
    "- client_id - идентификатор клиента\n",
    "- education - уровень образования\n",
    "- sex - пол заемщика\n",
    "- age - возраст заемщика\n",
    "- car - флаг наличия автомобиля\n",
    "- car_type - флаг автомобиля иномарки\n",
    "- decline_app_cnt - количество отказанных прошлых заявок\n",
    "- good_work - флаг наличия “хорошей” работы\n",
    "- bki_request_cnt - количество запросов в БКИ\n",
    "- home_address - категоризатор домашнего адреса\n",
    "- work_address - категоризатор рабочего адреса\n",
    "- income - доход заемщика\n",
    "- foreign_passport - наличие загранпаспорта\n",
    "- sna - связь заемщика с клиентами банка\n",
    "- first_time - давность наличия информации о заемщике\n",
    "- score_bki - скоринговый балл по данным из БКИ\n",
    "- region_rating - рейтинг региона\n",
    "- app_date - дата подачи заявки\n",
    "- default - флаг дефолта по кредиту"
   ]
  },
  {
   "cell_type": "markdown",
   "execution_count": null,
   "metadata": {},
   "source": [
    "### Предварительный анализ данных"
   ]
  },
  {
   "cell_type": "markdown",
   "execution_count": null,
   "metadata": {},
   "source": [
    "### 0. Основные моменты"
   ]
  },
  {
   "cell_type": "code",
   "execution_count": 5,
   "metadata": {},
   "outputs": [
    {
     "name": "stdout",
     "output_type": "stream",
     "text": [
      "0    64427\n",
      "1     9372\n",
      "Name: default, dtype: int64\n"
     ]
    },
    {
     "data": {
      "image/png": "[encoded data removed]",
      "text/plain": [
       "<Figure size 432x288 with 1 Axes>"
      ]
     },
     "metadata": {
      "needs_background": "light"
     },
     "output_type": "display_data"
    }
   ],
   "source": [
    "sns.countplot(train['default'])\n",
    "print(train['default'].value_counts())"
   ]
  },
  {
   "cell_type": "markdown",
   "execution_count": null,
   "metadata": {},
   "source": [
    "Вывод из примера: \"Очевидно что выборка распределена неравномерно и недефолтных клиентов заметно больше\""
   ]
  },
  {
   "cell_type": "code",
   "execution_count": 6,
   "metadata": {},
   "outputs": [
    {
     "name": "stdout",
     "output_type": "stream",
     "text": [
      "Размерность датасета:  (110148, 19)\n"
     ]
    }
   ],
   "source": [
    "# Объединение датасетов для более точного разбора статистики\n",
    "dataset= train.append(test, sort=False).reset_index(drop=True)\n",
    "print('Размерность датасета: ', dataset.shape)"
   ]
  },
  {
   "cell_type": "markdown",
   "execution_count": null,
   "metadata": {},
   "source": [
    "Проверка наличия пропусков в датасете"
   ]
  },
  {
   "cell_type": "code",
   "execution_count": 7,
   "metadata": {},
   "outputs": [
    {
     "data": {
      "text/plain": [
       "client_id               0\n",
       "app_date                0\n",
       "education             478\n",
       "sex                     0\n",
       "age                     0\n",
       "car                     0\n",
       "car_type                0\n",
       "decline_app_cnt         0\n",
       "good_work               0\n",
       "score_bki               0\n",
       "bki_request_cnt         0\n",
       "region_rating           0\n",
       "home_address            0\n",
       "work_address            0\n",
       "income                  0\n",
       "sna                     0\n",
       "first_time              0\n",
       "foreign_passport        0\n",
       "default             36349\n",
       "dtype: int64"
      ]
     },
     "execution_count": 7,
     "metadata": {},
     "output_type": "execute_result"
    }
   ],
   "source": [
    "dataset.isnull().sum()"
   ]
  },
  {
   "cell_type": "markdown",
   "execution_count": null,
   "metadata": {},
   "source": [
    "Пропуски есть только в поле \"education\", разберемся ниже"
   ]
  },
  {
   "cell_type": "code",
   "execution_count": 8,
   "metadata": {},
   "outputs": [
    {
     "data": {
      "text/html": [
       "<div>\n",
       "<style scoped>\n",
       "    .dataframe tbody tr th:only-of-type {\n",
       "        vertical-align: middle;\n",
       "    }\n",
       "\n",
       "    .dataframe tbody tr th {\n",
       "        vertical-align: top;\n",
       "    }\n",
       "\n",
       "    .dataframe thead th {\n",
       "        text-align: right;\n",
       "    }\n",
       "</style>\n",
       "<table border=\"1\" class=\"dataframe\">\n",
       "  <thead>\n",
       "    <tr style=\"text-align: right;\">\n",
       "      <th></th>\n",
       "      <th>client_id</th>\n",
       "      <th>age</th>\n",
       "      <th>decline_app_cnt</th>\n",
       "      <th>good_work</th>\n",
       "      <th>score_bki</th>\n",
       "      <th>bki_request_cnt</th>\n",
       "      <th>region_rating</th>\n",
       "      <th>home_address</th>\n",
       "      <th>work_address</th>\n",
       "      <th>income</th>\n",
       "      <th>sna</th>\n",
       "      <th>first_time</th>\n",
       "      <th>default</th>\n",
       "    </tr>\n",
       "  </thead>\n",
       "  <tbody>\n",
       "    <tr>\n",
       "      <th>count</th>\n",
       "      <td>110148.000000</td>\n",
       "      <td>110148.000000</td>\n",
       "      <td>110148.000000</td>\n",
       "      <td>110148.000000</td>\n",
       "      <td>110148.000000</td>\n",
       "      <td>110148.000000</td>\n",
       "      <td>110148.000000</td>\n",
       "      <td>110148.000000</td>\n",
       "      <td>110148.000000</td>\n",
       "      <td>110148.000000</td>\n",
       "      <td>110148.000000</td>\n",
       "      <td>110148.000000</td>\n",
       "      <td>73799.000000</td>\n",
       "    </tr>\n",
       "    <tr>\n",
       "      <th>mean</th>\n",
       "      <td>55074.500000</td>\n",
       "      <td>39.249410</td>\n",
       "      <td>0.273205</td>\n",
       "      <td>0.165514</td>\n",
       "      <td>-1.904535</td>\n",
       "      <td>2.005002</td>\n",
       "      <td>56.751189</td>\n",
       "      <td>1.574945</td>\n",
       "      <td>2.497867</td>\n",
       "      <td>41012.648537</td>\n",
       "      <td>1.731588</td>\n",
       "      <td>2.765570</td>\n",
       "      <td>0.126994</td>\n",
       "    </tr>\n",
       "    <tr>\n",
       "      <th>std</th>\n",
       "      <td>31797.133063</td>\n",
       "      <td>11.518063</td>\n",
       "      <td>0.799099</td>\n",
       "      <td>0.371645</td>\n",
       "      <td>0.499397</td>\n",
       "      <td>2.266926</td>\n",
       "      <td>13.065923</td>\n",
       "      <td>0.527562</td>\n",
       "      <td>0.687651</td>\n",
       "      <td>45399.735051</td>\n",
       "      <td>1.122652</td>\n",
       "      <td>1.010151</td>\n",
       "      <td>0.332968</td>\n",
       "    </tr>\n",
       "    <tr>\n",
       "      <th>min</th>\n",
       "      <td>1.000000</td>\n",
       "      <td>21.000000</td>\n",
       "      <td>0.000000</td>\n",
       "      <td>0.000000</td>\n",
       "      <td>-3.624586</td>\n",
       "      <td>0.000000</td>\n",
       "      <td>20.000000</td>\n",
       "      <td>1.000000</td>\n",
       "      <td>1.000000</td>\n",
       "      <td>1000.000000</td>\n",
       "      <td>1.000000</td>\n",
       "      <td>1.000000</td>\n",
       "      <td>0.000000</td>\n",
       "    </tr>\n",
       "    <tr>\n",
       "      <th>25%</th>\n",
       "      <td>27537.750000</td>\n",
       "      <td>30.000000</td>\n",
       "      <td>0.000000</td>\n",
       "      <td>0.000000</td>\n",
       "      <td>-2.260434</td>\n",
       "      <td>0.000000</td>\n",
       "      <td>50.000000</td>\n",
       "      <td>1.000000</td>\n",
       "      <td>2.000000</td>\n",
       "      <td>20000.000000</td>\n",
       "      <td>1.000000</td>\n",
       "      <td>2.000000</td>\n",
       "      <td>0.000000</td>\n",
       "    </tr>\n",
       "    <tr>\n",
       "      <th>50%</th>\n",
       "      <td>55074.500000</td>\n",
       "      <td>37.000000</td>\n",
       "      <td>0.000000</td>\n",
       "      <td>0.000000</td>\n",
       "      <td>-1.920823</td>\n",
       "      <td>1.000000</td>\n",
       "      <td>50.000000</td>\n",
       "      <td>2.000000</td>\n",
       "      <td>3.000000</td>\n",
       "      <td>30000.000000</td>\n",
       "      <td>1.000000</td>\n",
       "      <td>3.000000</td>\n",
       "      <td>0.000000</td>\n",
       "    </tr>\n",
       "    <tr>\n",
       "      <th>75%</th>\n",
       "      <td>82611.250000</td>\n",
       "      <td>48.000000</td>\n",
       "      <td>0.000000</td>\n",
       "      <td>0.000000</td>\n",
       "      <td>-1.567888</td>\n",
       "      <td>3.000000</td>\n",
       "      <td>60.000000</td>\n",
       "      <td>2.000000</td>\n",
       "      <td>3.000000</td>\n",
       "      <td>48000.000000</td>\n",
       "      <td>2.000000</td>\n",
       "      <td>4.000000</td>\n",
       "      <td>0.000000</td>\n",
       "    </tr>\n",
       "    <tr>\n",
       "      <th>max</th>\n",
       "      <td>110148.000000</td>\n",
       "      <td>72.000000</td>\n",
       "      <td>33.000000</td>\n",
       "      <td>1.000000</td>\n",
       "      <td>0.199773</td>\n",
       "      <td>53.000000</td>\n",
       "      <td>80.000000</td>\n",
       "      <td>3.000000</td>\n",
       "      <td>3.000000</td>\n",
       "      <td>1000000.000000</td>\n",
       "      <td>4.000000</td>\n",
       "      <td>4.000000</td>\n",
       "      <td>1.000000</td>\n",
       "    </tr>\n",
       "  </tbody>\n",
       "</table>\n",
       "</div>"
      ],
      "text/plain": [
       "           client_id            age  decline_app_cnt      good_work  \\\n",
       "count  110148.000000  110148.000000    110148.000000  110148.000000   \n",
       "mean    55074.500000      39.249410         0.273205       0.165514   \n",
       "std     31797.133063      11.518063         0.799099       0.371645   \n",
       "min         1.000000      21.000000         0.000000       0.000000   \n",
       "25%     27537.750000      30.000000         0.000000       0.000000   \n",
       "50%     55074.500000      37.000000         0.000000       0.000000   \n",
       "75%     82611.250000      48.000000         0.000000       0.000000   \n",
       "max    110148.000000      72.000000        33.000000       1.000000   \n",
       "\n",
       "           score_bki  bki_request_cnt  region_rating   home_address  \\\n",
       "count  110148.000000    110148.000000  110148.000000  110148.000000   \n",
       "mean       -1.904535         2.005002      56.751189       1.574945   \n",
       "std         0.499397         2.266926      13.065923       0.527562   \n",
       "min        -3.624586         0.000000      20.000000       1.000000   \n",
       "25%        -2.260434         0.000000      50.000000       1.000000   \n",
       "50%        -1.920823         1.000000      50.000000       2.000000   \n",
       "75%        -1.567888         3.000000      60.000000       2.000000   \n",
       "max         0.199773        53.000000      80.000000       3.000000   \n",
       "\n",
       "        work_address          income            sna     first_time  \\\n",
       "count  110148.000000   110148.000000  110148.000000  110148.000000   \n",
       "mean        2.497867    41012.648537       1.731588       2.765570   \n",
       "std         0.687651    45399.735051       1.122652       1.010151   \n",
       "min         1.000000     1000.000000       1.000000       1.000000   \n",
       "25%         2.000000    20000.000000       1.000000       2.000000   \n",
       "50%         3.000000    30000.000000       1.000000       3.000000   \n",
       "75%         3.000000    48000.000000       2.000000       4.000000   \n",
       "max         3.000000  1000000.000000       4.000000       4.000000   \n",
       "\n",
       "            default  \n",
       "count  73799.000000  \n",
       "mean       0.126994  \n",
       "std        0.332968  \n",
       "min        0.000000  \n",
       "25%        0.000000  \n",
       "50%        0.000000  \n",
       "75%        0.000000  \n",
       "max        1.000000  "
      ]
     },
     "execution_count": 8,
     "metadata": {},
     "output_type": "execute_result"
    }
   ],
   "source": [
    "dataset.describe()"
   ]
  },
  {
   "cell_type": "markdown",
   "execution_count": null,
   "metadata": {},
   "source": [
    "Ну что сказать тут... Кому-то одобрили кредит в миллион, но это пока не точно."
   ]
  },
  {
   "cell_type": "markdown",
   "execution_count": null,
   "metadata": {},
   "source": [
    "### 1. Признак \"education\""
   ]
  },
  {
   "cell_type": "code",
   "execution_count": 9,
   "metadata": {},
   "outputs": [
    {
     "name": "stdout",
     "output_type": "stream",
     "text": [
      "SCH    57998\n",
      "GRD    34768\n",
      "UGR    14748\n",
      "PGR     1865\n",
      "ACD      291\n",
      "Name: education, dtype: int64\n"
     ]
    },
    {
     "data": {
      "image/png": "[encoded data removed]",
      "text/plain": [
       "<Figure size 432x288 with 1 Axes>"
      ]
     },
     "metadata": {
      "needs_background": "light"
     },
     "output_type": "display_data"
    }
   ],
   "source": [
    "dataset['education'].value_counts().plot.barh()\n",
    "print(dataset['education'].value_counts())"
   ]
  },
  {
   "cell_type": "markdown",
   "execution_count": null,
   "metadata": {},
   "source": [
    "Вывод: очень мало клиентов с образованием ACD и без образования.\n",
    "В случае плохих результатов, попробуем вернуться к этим признакам позже, а пока заполним пропуски образованием SCH (без вот этих вот модных collections, чтобы блокнот отличался от исходного хоть чуть-чуть)"
   ]
  },
  {
   "cell_type": "code",
   "execution_count": 10,
   "metadata": {},
   "outputs": [
    {
     "name": "stdout",
     "output_type": "stream",
     "text": [
      "Количество NAN в обучающей выборе:  307\n",
      "Количество NAN в тестовой выборке:  171\n"
     ]
    }
   ],
   "source": [
    "print('Количество NAN в обучающей выборе: ', train.isnull().sum().sum())\n",
    "print('Количество NAN в тестовой выборке: ', test.isnull().sum().sum())"
   ]
  },
  {
   "cell_type": "markdown",
   "execution_count": null,
   "metadata": {},
   "source": [
    "Нет, ну все таки образование должно же хоть как-то влиять на тех, кто берет кредиты!\n",
    "На всякий случай.. Возьмем исходный датасет и заменим там пропущенное образование на \"NA\""
   ]
  },
  {
   "cell_type": "code",
   "execution_count": 11,
   "metadata": {},
   "outputs": [
    {
     "data": {
      "text/html": [
       "<div>\n",
       "<style scoped>\n",
       "    .dataframe tbody tr th:only-of-type {\n",
       "        vertical-align: middle;\n",
       "    }\n",
       "\n",
       "    .dataframe tbody tr th {\n",
       "        vertical-align: top;\n",
       "    }\n",
       "\n",
       "    .dataframe thead th {\n",
       "        text-align: right;\n",
       "    }\n",
       "</style>\n",
       "<table border=\"1\" class=\"dataframe\">\n",
       "  <thead>\n",
       "    <tr style=\"text-align: right;\">\n",
       "      <th></th>\n",
       "      <th>client_id</th>\n",
       "      <th>age</th>\n",
       "      <th>decline_app_cnt</th>\n",
       "      <th>good_work</th>\n",
       "      <th>score_bki</th>\n",
       "      <th>bki_request_cnt</th>\n",
       "      <th>region_rating</th>\n",
       "      <th>home_address</th>\n",
       "      <th>work_address</th>\n",
       "      <th>income</th>\n",
       "      <th>sna</th>\n",
       "      <th>first_time</th>\n",
       "      <th>default</th>\n",
       "    </tr>\n",
       "    <tr>\n",
       "      <th>education</th>\n",
       "      <th></th>\n",
       "      <th></th>\n",
       "      <th></th>\n",
       "      <th></th>\n",
       "      <th></th>\n",
       "      <th></th>\n",
       "      <th></th>\n",
       "      <th></th>\n",
       "      <th></th>\n",
       "      <th></th>\n",
       "      <th></th>\n",
       "      <th></th>\n",
       "      <th></th>\n",
       "    </tr>\n",
       "  </thead>\n",
       "  <tbody>\n",
       "    <tr>\n",
       "      <th>ACD</th>\n",
       "      <td>54937.233677</td>\n",
       "      <td>40.323024</td>\n",
       "      <td>0.178694</td>\n",
       "      <td>0.457045</td>\n",
       "      <td>-2.069584</td>\n",
       "      <td>1.786942</td>\n",
       "      <td>64.604811</td>\n",
       "      <td>1.646048</td>\n",
       "      <td>2.611684</td>\n",
       "      <td>85949.405498</td>\n",
       "      <td>1.532646</td>\n",
       "      <td>3.164948</td>\n",
       "      <td>0.041237</td>\n",
       "    </tr>\n",
       "    <tr>\n",
       "      <th>PGR</th>\n",
       "      <td>54567.982306</td>\n",
       "      <td>38.567292</td>\n",
       "      <td>0.194102</td>\n",
       "      <td>0.305094</td>\n",
       "      <td>-1.975544</td>\n",
       "      <td>2.111528</td>\n",
       "      <td>61.233244</td>\n",
       "      <td>1.584987</td>\n",
       "      <td>2.512601</td>\n",
       "      <td>79753.214477</td>\n",
       "      <td>1.443968</td>\n",
       "      <td>3.075067</td>\n",
       "      <td>0.064439</td>\n",
       "    </tr>\n",
       "    <tr>\n",
       "      <th>GRD</th>\n",
       "      <td>56562.968793</td>\n",
       "      <td>38.066584</td>\n",
       "      <td>0.227048</td>\n",
       "      <td>0.251668</td>\n",
       "      <td>-1.920431</td>\n",
       "      <td>2.158335</td>\n",
       "      <td>58.506673</td>\n",
       "      <td>1.569087</td>\n",
       "      <td>2.489416</td>\n",
       "      <td>54315.008916</td>\n",
       "      <td>1.567016</td>\n",
       "      <td>2.942792</td>\n",
       "      <td>0.090092</td>\n",
       "    </tr>\n",
       "    <tr>\n",
       "      <th>NA</th>\n",
       "      <td>50891.301255</td>\n",
       "      <td>41.437238</td>\n",
       "      <td>0.106695</td>\n",
       "      <td>0.142259</td>\n",
       "      <td>-1.945634</td>\n",
       "      <td>1.761506</td>\n",
       "      <td>60.418410</td>\n",
       "      <td>1.619247</td>\n",
       "      <td>2.562762</td>\n",
       "      <td>46240.956067</td>\n",
       "      <td>1.635983</td>\n",
       "      <td>2.905858</td>\n",
       "      <td>0.114007</td>\n",
       "    </tr>\n",
       "    <tr>\n",
       "      <th>UGR</th>\n",
       "      <td>57608.856048</td>\n",
       "      <td>34.860523</td>\n",
       "      <td>0.350963</td>\n",
       "      <td>0.165921</td>\n",
       "      <td>-1.855721</td>\n",
       "      <td>1.787225</td>\n",
       "      <td>57.914293</td>\n",
       "      <td>1.600488</td>\n",
       "      <td>2.534242</td>\n",
       "      <td>39009.904868</td>\n",
       "      <td>1.773935</td>\n",
       "      <td>2.686873</td>\n",
       "      <td>0.131520</td>\n",
       "    </tr>\n",
       "    <tr>\n",
       "      <th>SCH</th>\n",
       "      <td>53589.214352</td>\n",
       "      <td>41.073020</td>\n",
       "      <td>0.285493</td>\n",
       "      <td>0.108004</td>\n",
       "      <td>-1.903968</td>\n",
       "      <td>1.968137</td>\n",
       "      <td>55.189317</td>\n",
       "      <td>1.570916</td>\n",
       "      <td>2.492103</td>\n",
       "      <td>32033.254681</td>\n",
       "      <td>1.830511</td>\n",
       "      <td>2.666230</td>\n",
       "      <td>0.150592</td>\n",
       "    </tr>\n",
       "  </tbody>\n",
       "</table>\n",
       "</div>"
      ],
      "text/plain": [
       "              client_id        age  decline_app_cnt  good_work  score_bki  \\\n",
       "education                                                                   \n",
       "ACD        54937.233677  40.323024         0.178694   0.457045  -2.069584   \n",
       "PGR        54567.982306  38.567292         0.194102   0.305094  -1.975544   \n",
       "GRD        56562.968793  38.066584         0.227048   0.251668  -1.920431   \n",
       "NA         50891.301255  41.437238         0.106695   0.142259  -1.945634   \n",
       "UGR        57608.856048  34.860523         0.350963   0.165921  -1.855721   \n",
       "SCH        53589.214352  41.073020         0.285493   0.108004  -1.903968   \n",
       "\n",
       "           bki_request_cnt  region_rating  home_address  work_address  \\\n",
       "education                                                               \n",
       "ACD               1.786942      64.604811      1.646048      2.611684   \n",
       "PGR               2.111528      61.233244      1.584987      2.512601   \n",
       "GRD               2.158335      58.506673      1.569087      2.489416   \n",
       "NA                1.761506      60.418410      1.619247      2.562762   \n",
       "UGR               1.787225      57.914293      1.600488      2.534242   \n",
       "SCH               1.968137      55.189317      1.570916      2.492103   \n",
       "\n",
       "                 income       sna  first_time   default  \n",
       "education                                                \n",
       "ACD        85949.405498  1.532646    3.164948  0.041237  \n",
       "PGR        79753.214477  1.443968    3.075067  0.064439  \n",
       "GRD        54315.008916  1.567016    2.942792  0.090092  \n",
       "NA         46240.956067  1.635983    2.905858  0.114007  \n",
       "UGR        39009.904868  1.773935    2.686873  0.131520  \n",
       "SCH        32033.254681  1.830511    2.666230  0.150592  "
      ]
     },
     "execution_count": 11,
     "metadata": {},
     "output_type": "execute_result"
    }
   ],
   "source": [
    "dataset['education'].fillna('NA', inplace=True)\n",
    "\n",
    "dataset.groupby('education').mean().sort_values(by = 'default')\n"
   ]
  },
  {
   "cell_type": "markdown",
   "execution_count": null,
   "metadata": {},
   "source": [
    "Если я правильно понимаю, то здесь представлены все градации образования: SCH - школа, UGR - студенты, GRD - аспиранты, PGR - ученые со степенями, ACD - предположу, что академики. И чем выше степень образования, тем меньше default. Но вот эти люди без образования все портят.. затесались между студентами и аспирантами.. И еще у них очень маленькое количество отказанных прошлых заявок, хотя кредит они берут далеко не первый раз. Вот надеюсь не зря я это все начал."
   ]
  },
  {
   "cell_type": "code",
   "execution_count": 12,
   "metadata": {},
   "outputs": [
    {
     "name": "stdout",
     "output_type": "stream",
     "text": [
      "Количество NAN в обучающей выборе:  0\n",
      "Количество NAN в тестовой выборке:  0\n"
     ]
    }
   ],
   "source": [
    "train['education'].fillna('UGR', inplace=True)\n",
    "test['education'].fillna('UGR', inplace=True)\n",
    "print('Количество NAN в обучающей выборе: ', train.isnull().sum().sum())\n",
    "print('Количество NAN в тестовой выборке: ', test.isnull().sum().sum())"
   ]
  },
  {
   "cell_type": "markdown",
   "execution_count": null,
   "metadata": {},
   "source": [
    "Не знаю я зачем это начал. Но чтобы хоть не зря казалось, то заполню все же пропуски в образовании не школьниками, а студентами. Киллер фича, о да!\n",
    "Кстати так и не понял, кто такие ACD, судя по возрасту явно не академики, но платят кредиты исправно.\n",
    "Наверное, это яркий пример, на что не стоит тратить время.."
   ]
  },
  {
   "cell_type": "markdown",
   "execution_count": null,
   "metadata": {},
   "source": [
    "### 2. Признак \"app_date\""
   ]
  },
  {
   "cell_type": "markdown",
   "execution_count": null,
   "metadata": {},
   "source": [
    "Конвертируем общий датасет."
   ]
  },
  {
   "cell_type": "code",
   "execution_count": 13,
   "metadata": {},
   "outputs": [
    {
     "data": {
      "text/html": [
       "<div>\n",
       "<style scoped>\n",
       "    .dataframe tbody tr th:only-of-type {\n",
       "        vertical-align: middle;\n",
       "    }\n",
       "\n",
       "    .dataframe tbody tr th {\n",
       "        vertical-align: top;\n",
       "    }\n",
       "\n",
       "    .dataframe thead th {\n",
       "        text-align: right;\n",
       "    }\n",
       "</style>\n",
       "<table border=\"1\" class=\"dataframe\">\n",
       "  <thead>\n",
       "    <tr style=\"text-align: right;\">\n",
       "      <th></th>\n",
       "      <th>client_id</th>\n",
       "      <th>app_date</th>\n",
       "      <th>education</th>\n",
       "      <th>sex</th>\n",
       "      <th>age</th>\n",
       "      <th>car</th>\n",
       "      <th>car_type</th>\n",
       "      <th>decline_app_cnt</th>\n",
       "      <th>good_work</th>\n",
       "      <th>score_bki</th>\n",
       "      <th>bki_request_cnt</th>\n",
       "      <th>region_rating</th>\n",
       "      <th>home_address</th>\n",
       "      <th>work_address</th>\n",
       "      <th>income</th>\n",
       "      <th>sna</th>\n",
       "      <th>first_time</th>\n",
       "      <th>foreign_passport</th>\n",
       "      <th>default</th>\n",
       "    </tr>\n",
       "  </thead>\n",
       "  <tbody>\n",
       "    <tr>\n",
       "      <th>11038</th>\n",
       "      <td>42</td>\n",
       "      <td>2014-01-01</td>\n",
       "      <td>UGR</td>\n",
       "      <td>F</td>\n",
       "      <td>47</td>\n",
       "      <td>Y</td>\n",
       "      <td>N</td>\n",
       "      <td>0</td>\n",
       "      <td>0</td>\n",
       "      <td>-2.211580</td>\n",
       "      <td>1</td>\n",
       "      <td>60</td>\n",
       "      <td>2</td>\n",
       "      <td>3</td>\n",
       "      <td>35000</td>\n",
       "      <td>1</td>\n",
       "      <td>4</td>\n",
       "      <td>Y</td>\n",
       "      <td>0.0</td>\n",
       "    </tr>\n",
       "    <tr>\n",
       "      <th>25920</th>\n",
       "      <td>14</td>\n",
       "      <td>2014-01-01</td>\n",
       "      <td>SCH</td>\n",
       "      <td>F</td>\n",
       "      <td>36</td>\n",
       "      <td>N</td>\n",
       "      <td>N</td>\n",
       "      <td>0</td>\n",
       "      <td>0</td>\n",
       "      <td>-2.164185</td>\n",
       "      <td>0</td>\n",
       "      <td>70</td>\n",
       "      <td>1</td>\n",
       "      <td>1</td>\n",
       "      <td>90000</td>\n",
       "      <td>1</td>\n",
       "      <td>4</td>\n",
       "      <td>Y</td>\n",
       "      <td>0.0</td>\n",
       "    </tr>\n",
       "    <tr>\n",
       "      <th>72759</th>\n",
       "      <td>56</td>\n",
       "      <td>2014-01-01</td>\n",
       "      <td>UGR</td>\n",
       "      <td>M</td>\n",
       "      <td>25</td>\n",
       "      <td>N</td>\n",
       "      <td>N</td>\n",
       "      <td>0</td>\n",
       "      <td>1</td>\n",
       "      <td>-1.629831</td>\n",
       "      <td>5</td>\n",
       "      <td>80</td>\n",
       "      <td>2</td>\n",
       "      <td>3</td>\n",
       "      <td>50000</td>\n",
       "      <td>1</td>\n",
       "      <td>3</td>\n",
       "      <td>N</td>\n",
       "      <td>0.0</td>\n",
       "    </tr>\n",
       "    <tr>\n",
       "      <th>108665</th>\n",
       "      <td>35</td>\n",
       "      <td>2014-01-01</td>\n",
       "      <td>GRD</td>\n",
       "      <td>M</td>\n",
       "      <td>35</td>\n",
       "      <td>N</td>\n",
       "      <td>N</td>\n",
       "      <td>0</td>\n",
       "      <td>1</td>\n",
       "      <td>-2.211979</td>\n",
       "      <td>1</td>\n",
       "      <td>70</td>\n",
       "      <td>1</td>\n",
       "      <td>2</td>\n",
       "      <td>50000</td>\n",
       "      <td>1</td>\n",
       "      <td>3</td>\n",
       "      <td>Y</td>\n",
       "      <td>NaN</td>\n",
       "    </tr>\n",
       "    <tr>\n",
       "      <th>31672</th>\n",
       "      <td>20</td>\n",
       "      <td>2014-01-01</td>\n",
       "      <td>SCH</td>\n",
       "      <td>M</td>\n",
       "      <td>47</td>\n",
       "      <td>N</td>\n",
       "      <td>N</td>\n",
       "      <td>4</td>\n",
       "      <td>0</td>\n",
       "      <td>-2.047099</td>\n",
       "      <td>3</td>\n",
       "      <td>50</td>\n",
       "      <td>1</td>\n",
       "      <td>2</td>\n",
       "      <td>30000</td>\n",
       "      <td>1</td>\n",
       "      <td>2</td>\n",
       "      <td>N</td>\n",
       "      <td>0.0</td>\n",
       "    </tr>\n",
       "    <tr>\n",
       "      <th>...</th>\n",
       "      <td>...</td>\n",
       "      <td>...</td>\n",
       "      <td>...</td>\n",
       "      <td>...</td>\n",
       "      <td>...</td>\n",
       "      <td>...</td>\n",
       "      <td>...</td>\n",
       "      <td>...</td>\n",
       "      <td>...</td>\n",
       "      <td>...</td>\n",
       "      <td>...</td>\n",
       "      <td>...</td>\n",
       "      <td>...</td>\n",
       "      <td>...</td>\n",
       "      <td>...</td>\n",
       "      <td>...</td>\n",
       "      <td>...</td>\n",
       "      <td>...</td>\n",
       "      <td>...</td>\n",
       "    </tr>\n",
       "    <tr>\n",
       "      <th>64006</th>\n",
       "      <td>109644</td>\n",
       "      <td>2014-04-30</td>\n",
       "      <td>UGR</td>\n",
       "      <td>F</td>\n",
       "      <td>29</td>\n",
       "      <td>N</td>\n",
       "      <td>N</td>\n",
       "      <td>0</td>\n",
       "      <td>0</td>\n",
       "      <td>-1.937661</td>\n",
       "      <td>0</td>\n",
       "      <td>50</td>\n",
       "      <td>2</td>\n",
       "      <td>3</td>\n",
       "      <td>15000</td>\n",
       "      <td>1</td>\n",
       "      <td>2</td>\n",
       "      <td>N</td>\n",
       "      <td>0.0</td>\n",
       "    </tr>\n",
       "    <tr>\n",
       "      <th>50840</th>\n",
       "      <td>109937</td>\n",
       "      <td>2014-04-30</td>\n",
       "      <td>SCH</td>\n",
       "      <td>M</td>\n",
       "      <td>37</td>\n",
       "      <td>Y</td>\n",
       "      <td>N</td>\n",
       "      <td>0</td>\n",
       "      <td>0</td>\n",
       "      <td>-1.372804</td>\n",
       "      <td>1</td>\n",
       "      <td>50</td>\n",
       "      <td>1</td>\n",
       "      <td>1</td>\n",
       "      <td>30000</td>\n",
       "      <td>3</td>\n",
       "      <td>1</td>\n",
       "      <td>N</td>\n",
       "      <td>0.0</td>\n",
       "    </tr>\n",
       "    <tr>\n",
       "      <th>81386</th>\n",
       "      <td>110116</td>\n",
       "      <td>2014-04-30</td>\n",
       "      <td>SCH</td>\n",
       "      <td>F</td>\n",
       "      <td>46</td>\n",
       "      <td>N</td>\n",
       "      <td>N</td>\n",
       "      <td>0</td>\n",
       "      <td>0</td>\n",
       "      <td>-2.049589</td>\n",
       "      <td>3</td>\n",
       "      <td>50</td>\n",
       "      <td>2</td>\n",
       "      <td>3</td>\n",
       "      <td>18000</td>\n",
       "      <td>3</td>\n",
       "      <td>2</td>\n",
       "      <td>N</td>\n",
       "      <td>NaN</td>\n",
       "    </tr>\n",
       "    <tr>\n",
       "      <th>1170</th>\n",
       "      <td>110060</td>\n",
       "      <td>2014-04-30</td>\n",
       "      <td>GRD</td>\n",
       "      <td>M</td>\n",
       "      <td>40</td>\n",
       "      <td>N</td>\n",
       "      <td>N</td>\n",
       "      <td>0</td>\n",
       "      <td>1</td>\n",
       "      <td>-2.211677</td>\n",
       "      <td>4</td>\n",
       "      <td>50</td>\n",
       "      <td>2</td>\n",
       "      <td>3</td>\n",
       "      <td>115000</td>\n",
       "      <td>1</td>\n",
       "      <td>3</td>\n",
       "      <td>N</td>\n",
       "      <td>0.0</td>\n",
       "    </tr>\n",
       "    <tr>\n",
       "      <th>60236</th>\n",
       "      <td>109681</td>\n",
       "      <td>2014-04-30</td>\n",
       "      <td>GRD</td>\n",
       "      <td>M</td>\n",
       "      <td>30</td>\n",
       "      <td>N</td>\n",
       "      <td>N</td>\n",
       "      <td>0</td>\n",
       "      <td>0</td>\n",
       "      <td>-2.373089</td>\n",
       "      <td>0</td>\n",
       "      <td>50</td>\n",
       "      <td>1</td>\n",
       "      <td>2</td>\n",
       "      <td>25000</td>\n",
       "      <td>1</td>\n",
       "      <td>3</td>\n",
       "      <td>N</td>\n",
       "      <td>0.0</td>\n",
       "    </tr>\n",
       "  </tbody>\n",
       "</table>\n",
       "<p>110148 rows × 19 columns</p>\n",
       "</div>"
      ],
      "text/plain": [
       "        client_id   app_date education sex  age car car_type  decline_app_cnt  \\\n",
       "11038          42 2014-01-01       UGR   F   47   Y        N                0   \n",
       "25920          14 2014-01-01       SCH   F   36   N        N                0   \n",
       "72759          56 2014-01-01       UGR   M   25   N        N                0   \n",
       "108665         35 2014-01-01       GRD   M   35   N        N                0   \n",
       "31672          20 2014-01-01       SCH   M   47   N        N                4   \n",
       "...           ...        ...       ...  ..  ...  ..      ...              ...   \n",
       "64006      109644 2014-04-30       UGR   F   29   N        N                0   \n",
       "50840      109937 2014-04-30       SCH   M   37   Y        N                0   \n",
       "81386      110116 2014-04-30       SCH   F   46   N        N                0   \n",
       "1170       110060 2014-04-30       GRD   M   40   N        N                0   \n",
       "60236      109681 2014-04-30       GRD   M   30   N        N                0   \n",
       "\n",
       "        good_work  score_bki  bki_request_cnt  region_rating  home_address  \\\n",
       "11038           0  -2.211580                1             60             2   \n",
       "25920           0  -2.164185                0             70             1   \n",
       "72759           1  -1.629831                5             80             2   \n",
       "108665          1  -2.211979                1             70             1   \n",
       "31672           0  -2.047099                3             50             1   \n",
       "...           ...        ...              ...            ...           ...   \n",
       "64006           0  -1.937661                0             50             2   \n",
       "50840           0  -1.372804                1             50             1   \n",
       "81386           0  -2.049589                3             50             2   \n",
       "1170            1  -2.211677                4             50             2   \n",
       "60236           0  -2.373089                0             50             1   \n",
       "\n",
       "        work_address  income  sna  first_time foreign_passport  default  \n",
       "11038              3   35000    1           4                Y      0.0  \n",
       "25920              1   90000    1           4                Y      0.0  \n",
       "72759              3   50000    1           3                N      0.0  \n",
       "108665             2   50000    1           3                Y      NaN  \n",
       "31672              2   30000    1           2                N      0.0  \n",
       "...              ...     ...  ...         ...              ...      ...  \n",
       "64006              3   15000    1           2                N      0.0  \n",
       "50840              1   30000    3           1                N      0.0  \n",
       "81386              3   18000    3           2                N      NaN  \n",
       "1170               3  115000    1           3                N      0.0  \n",
       "60236              2   25000    1           3                N      0.0  \n",
       "\n",
       "[110148 rows x 19 columns]"
      ]
     },
     "execution_count": 13,
     "metadata": {},
     "output_type": "execute_result"
    }
   ],
   "source": [
    "dataset.app_date = pd.to_datetime(dataset.app_date)\n",
    "dataset.sort_values('app_date')"
   ]
  },
  {
   "cell_type": "markdown",
   "execution_count": null,
   "metadata": {},
   "source": [
    "Все данные за 2014 год, причем за несколько месяцев всего, но ничего подозрительного. Конвертируем наши выборки.\n",
    "Там в примере кстати была небольшая ошибка, если это только не специально: test.app_date = pd.to_datetime(train.app_date)"
   ]
  },
  {
   "cell_type": "code",
   "execution_count": 14,
   "metadata": {},
   "outputs": [],
   "source": [
    "train.app_date = pd.to_datetime(train.app_date)\n",
    "test.app_date = pd.to_datetime(test.app_date)"
   ]
  },
  {
   "cell_type": "markdown",
   "execution_count": null,
   "metadata": {},
   "source": [
    "В примере вытаскивались дополнительные признаки, на всякий случай оставлю, плюс раз уж начали, добавлю признак  дня недели.\n",
    "На всякий случай попробуем найти зависимости"
   ]
  },
  {
   "cell_type": "code",
   "execution_count": 15,
   "metadata": {},
   "outputs": [],
   "source": [
    "current_date = pd.to_datetime('28JUL2020')\n",
    "train['days_passed'] = (current_date - train['app_date']).dt.days.astype('int')"
   ]
  },
  {
   "cell_type": "markdown",
   "execution_count": null,
   "metadata": {},
   "source": [
    "Особого смысла выделять выходные нет, оставляем так. Месяцы не стал выделять, т.к. они сильно скоррелированы с днями"
   ]
  },
  {
   "cell_type": "code",
   "execution_count": 16,
   "metadata": {},
   "outputs": [],
   "source": [
    "test['days_passed'] = (current_date - test['app_date']).dt.days.astype('int')"
   ]
  },
  {
   "cell_type": "code",
   "execution_count": 17,
   "metadata": {},
   "outputs": [
    {
     "data": {
      "image/png": "[encoded data removed]",
      "text/plain": [
       "<Figure size 432x288 with 1 Axes>"
      ]
     },
     "metadata": {
      "needs_background": "light"
     },
     "output_type": "display_data"
    },
    {
     "data": {
      "image/png": "[encoded data removed]",
      "text/plain": [
       "<Figure size 432x288 with 1 Axes>"
      ]
     },
     "metadata": {
      "needs_background": "light"
     },
     "output_type": "display_data"
    }
   ],
   "source": [
    "sns.distplot(train['days_passed'], kde = False, rug=False)\n",
    "plt.show()\n",
    "\n",
    "sns.boxplot(train['days_passed'])\n",
    "plt.show()\n",
    "\n"
   ]
  },
  {
   "cell_type": "markdown",
   "execution_count": null,
   "metadata": {},
   "source": [
    "В выходные оказывается берут меньше кредитов) День недели будем брать как категорию, количество дней логарифмируем."
   ]
  },
  {
   "cell_type": "code",
   "execution_count": 18,
   "metadata": {},
   "outputs": [
    {
     "data": {
      "image/png": "[encoded data removed]",
      "text/plain": [
       "<Figure size 432x288 with 1 Axes>"
      ]
     },
     "metadata": {
      "needs_background": "light"
     },
     "output_type": "display_data"
    }
   ],
   "source": [
    "train['days_passed'] = np.log(train['days_passed'] + 1)\n",
    "test['days_passed'] = np.log(test['days_passed'] + 1)\n",
    "\n",
    "sns.distplot(train['days_passed'], kde = False, rug=False)\n",
    "plt.show()"
   ]
  },
  {
   "cell_type": "markdown",
   "execution_count": null,
   "metadata": {},
   "source": [
    "### 3. Признак 'decline_app_cnt'"
   ]
  },
  {
   "cell_type": "markdown",
   "execution_count": null,
   "metadata": {},
   "source": [
    "Посмотрим распределение и выбросы"
   ]
  },
  {
   "cell_type": "code",
   "execution_count": 19,
   "metadata": {},
   "outputs": [
    {
     "data": {
      "image/png": "[encoded data removed]",
      "text/plain": [
       "<Figure size 432x288 with 1 Axes>"
      ]
     },
     "metadata": {
      "needs_background": "light"
     },
     "output_type": "display_data"
    },
    {
     "data": {
      "image/png": "[encoded data removed]",
      "text/plain": [
       "<Figure size 432x288 with 1 Axes>"
      ]
     },
     "metadata": {
      "needs_background": "light"
     },
     "output_type": "display_data"
    },
    {
     "name": "stdout",
     "output_type": "stream",
     "text": [
      "0     91471\n",
      "1     12500\n",
      "2      3622\n",
      "3      1365\n",
      "4       606\n",
      "5       255\n",
      "6       156\n",
      "7        58\n",
      "8        37\n",
      "9        29\n",
      "10       16\n",
      "11       10\n",
      "12        5\n",
      "13        4\n",
      "14        3\n",
      "16        3\n",
      "30        1\n",
      "15        1\n",
      "19        1\n",
      "20        1\n",
      "21        1\n",
      "22        1\n",
      "24        1\n",
      "33        1\n",
      "Name: decline_app_cnt, dtype: int64\n"
     ]
    }
   ],
   "source": [
    "plt.figure()\n",
    "sns.distplot(dataset['decline_app_cnt'], kde = False, rug=False)\n",
    "plt.show()\n",
    "\n",
    "sns.boxplot(dataset['decline_app_cnt'])\n",
    "plt.show()\n",
    "\n",
    "print(dataset['decline_app_cnt'].value_counts())"
   ]
  },
  {
   "cell_type": "markdown",
   "execution_count": null,
   "metadata": {},
   "source": [
    "Посмотрим, как распределяются дефолты в зависимости от этого параметра"
   ]
  },
  {
   "cell_type": "code",
   "execution_count": 20,
   "metadata": {},
   "outputs": [
    {
     "data": {
      "text/html": [
       "<div>\n",
       "<style scoped>\n",
       "    .dataframe tbody tr th:only-of-type {\n",
       "        vertical-align: middle;\n",
       "    }\n",
       "\n",
       "    .dataframe tbody tr th {\n",
       "        vertical-align: top;\n",
       "    }\n",
       "\n",
       "    .dataframe thead th {\n",
       "        text-align: right;\n",
       "    }\n",
       "</style>\n",
       "<table border=\"1\" class=\"dataframe\">\n",
       "  <thead>\n",
       "    <tr style=\"text-align: right;\">\n",
       "      <th></th>\n",
       "      <th>client_id</th>\n",
       "      <th>age</th>\n",
       "      <th>good_work</th>\n",
       "      <th>score_bki</th>\n",
       "      <th>bki_request_cnt</th>\n",
       "      <th>region_rating</th>\n",
       "      <th>home_address</th>\n",
       "      <th>work_address</th>\n",
       "      <th>income</th>\n",
       "      <th>sna</th>\n",
       "      <th>first_time</th>\n",
       "      <th>default</th>\n",
       "      <th>days_passed</th>\n",
       "    </tr>\n",
       "    <tr>\n",
       "      <th>decline_app_cnt</th>\n",
       "      <th></th>\n",
       "      <th></th>\n",
       "      <th></th>\n",
       "      <th></th>\n",
       "      <th></th>\n",
       "      <th></th>\n",
       "      <th></th>\n",
       "      <th></th>\n",
       "      <th></th>\n",
       "      <th></th>\n",
       "      <th></th>\n",
       "      <th></th>\n",
       "      <th></th>\n",
       "    </tr>\n",
       "  </thead>\n",
       "  <tbody>\n",
       "    <tr>\n",
       "      <th>33</th>\n",
       "      <td>108743.000000</td>\n",
       "      <td>42.000000</td>\n",
       "      <td>0.000000</td>\n",
       "      <td>-0.988195</td>\n",
       "      <td>2.000000</td>\n",
       "      <td>50.000000</td>\n",
       "      <td>2.000000</td>\n",
       "      <td>3.000000</td>\n",
       "      <td>20000.000000</td>\n",
       "      <td>4.000000</td>\n",
       "      <td>1.000000</td>\n",
       "      <td>0.000000</td>\n",
       "      <td>7.733246</td>\n",
       "    </tr>\n",
       "    <tr>\n",
       "      <th>16</th>\n",
       "      <td>23566.000000</td>\n",
       "      <td>32.500000</td>\n",
       "      <td>0.000000</td>\n",
       "      <td>-1.719010</td>\n",
       "      <td>5.000000</td>\n",
       "      <td>55.000000</td>\n",
       "      <td>1.500000</td>\n",
       "      <td>2.500000</td>\n",
       "      <td>57500.000000</td>\n",
       "      <td>1.000000</td>\n",
       "      <td>3.000000</td>\n",
       "      <td>0.000000</td>\n",
       "      <td>7.771251</td>\n",
       "    </tr>\n",
       "    <tr>\n",
       "      <th>13</th>\n",
       "      <td>43168.000000</td>\n",
       "      <td>33.333333</td>\n",
       "      <td>0.000000</td>\n",
       "      <td>-1.210857</td>\n",
       "      <td>6.000000</td>\n",
       "      <td>46.666667</td>\n",
       "      <td>2.000000</td>\n",
       "      <td>3.000000</td>\n",
       "      <td>41666.666667</td>\n",
       "      <td>3.333333</td>\n",
       "      <td>2.000000</td>\n",
       "      <td>0.000000</td>\n",
       "      <td>7.762942</td>\n",
       "    </tr>\n",
       "    <tr>\n",
       "      <th>12</th>\n",
       "      <td>35456.500000</td>\n",
       "      <td>24.500000</td>\n",
       "      <td>0.000000</td>\n",
       "      <td>-1.438279</td>\n",
       "      <td>7.000000</td>\n",
       "      <td>55.000000</td>\n",
       "      <td>2.000000</td>\n",
       "      <td>2.500000</td>\n",
       "      <td>25500.000000</td>\n",
       "      <td>3.000000</td>\n",
       "      <td>1.500000</td>\n",
       "      <td>0.000000</td>\n",
       "      <td>7.766325</td>\n",
       "    </tr>\n",
       "    <tr>\n",
       "      <th>24</th>\n",
       "      <td>87562.000000</td>\n",
       "      <td>48.000000</td>\n",
       "      <td>0.000000</td>\n",
       "      <td>-0.616087</td>\n",
       "      <td>3.000000</td>\n",
       "      <td>40.000000</td>\n",
       "      <td>2.000000</td>\n",
       "      <td>3.000000</td>\n",
       "      <td>320000.000000</td>\n",
       "      <td>1.000000</td>\n",
       "      <td>3.000000</td>\n",
       "      <td>0.000000</td>\n",
       "      <td>7.744570</td>\n",
       "    </tr>\n",
       "    <tr>\n",
       "      <th>0</th>\n",
       "      <td>55410.435783</td>\n",
       "      <td>39.875600</td>\n",
       "      <td>0.170647</td>\n",
       "      <td>-1.950159</td>\n",
       "      <td>1.854935</td>\n",
       "      <td>56.959682</td>\n",
       "      <td>1.573104</td>\n",
       "      <td>2.490737</td>\n",
       "      <td>41662.799441</td>\n",
       "      <td>1.699644</td>\n",
       "      <td>2.799229</td>\n",
       "      <td>0.109534</td>\n",
       "      <td>7.757680</td>\n",
       "    </tr>\n",
       "    <tr>\n",
       "      <th>1</th>\n",
       "      <td>54609.318090</td>\n",
       "      <td>37.100631</td>\n",
       "      <td>0.138621</td>\n",
       "      <td>-1.733486</td>\n",
       "      <td>2.480291</td>\n",
       "      <td>55.846136</td>\n",
       "      <td>1.583304</td>\n",
       "      <td>2.518280</td>\n",
       "      <td>38905.923068</td>\n",
       "      <td>1.848994</td>\n",
       "      <td>2.636180</td>\n",
       "      <td>0.187805</td>\n",
       "      <td>7.758026</td>\n",
       "    </tr>\n",
       "    <tr>\n",
       "      <th>2</th>\n",
       "      <td>52510.938006</td>\n",
       "      <td>35.714344</td>\n",
       "      <td>0.134117</td>\n",
       "      <td>-1.617417</td>\n",
       "      <td>2.829417</td>\n",
       "      <td>55.356564</td>\n",
       "      <td>1.594408</td>\n",
       "      <td>2.540113</td>\n",
       "      <td>37664.629254</td>\n",
       "      <td>1.973258</td>\n",
       "      <td>2.562804</td>\n",
       "      <td>0.243517</td>\n",
       "      <td>7.758919</td>\n",
       "    </tr>\n",
       "    <tr>\n",
       "      <th>5</th>\n",
       "      <td>49870.860606</td>\n",
       "      <td>32.957576</td>\n",
       "      <td>0.157576</td>\n",
       "      <td>-1.507171</td>\n",
       "      <td>3.666667</td>\n",
       "      <td>54.606061</td>\n",
       "      <td>1.600000</td>\n",
       "      <td>2.484848</td>\n",
       "      <td>35348.181818</td>\n",
       "      <td>1.921212</td>\n",
       "      <td>2.496970</td>\n",
       "      <td>0.260606</td>\n",
       "      <td>7.760050</td>\n",
       "    </tr>\n",
       "    <tr>\n",
       "      <th>3</th>\n",
       "      <td>51839.901440</td>\n",
       "      <td>34.385382</td>\n",
       "      <td>0.121816</td>\n",
       "      <td>-1.569281</td>\n",
       "      <td>3.311185</td>\n",
       "      <td>54.573643</td>\n",
       "      <td>1.580288</td>\n",
       "      <td>2.507198</td>\n",
       "      <td>36429.379845</td>\n",
       "      <td>2.001107</td>\n",
       "      <td>2.473976</td>\n",
       "      <td>0.273533</td>\n",
       "      <td>7.759213</td>\n",
       "    </tr>\n",
       "    <tr>\n",
       "      <th>4</th>\n",
       "      <td>53084.082126</td>\n",
       "      <td>34.108696</td>\n",
       "      <td>0.157005</td>\n",
       "      <td>-1.548978</td>\n",
       "      <td>3.818841</td>\n",
       "      <td>54.975845</td>\n",
       "      <td>1.596618</td>\n",
       "      <td>2.553140</td>\n",
       "      <td>35780.917874</td>\n",
       "      <td>2.050725</td>\n",
       "      <td>2.531401</td>\n",
       "      <td>0.289855</td>\n",
       "      <td>7.758704</td>\n",
       "    </tr>\n",
       "    <tr>\n",
       "      <th>7</th>\n",
       "      <td>55626.291667</td>\n",
       "      <td>34.604167</td>\n",
       "      <td>0.062500</td>\n",
       "      <td>-1.386799</td>\n",
       "      <td>4.562500</td>\n",
       "      <td>55.625000</td>\n",
       "      <td>1.687500</td>\n",
       "      <td>2.562500</td>\n",
       "      <td>46875.000000</td>\n",
       "      <td>2.083333</td>\n",
       "      <td>2.395833</td>\n",
       "      <td>0.291667</td>\n",
       "      <td>7.757619</td>\n",
       "    </tr>\n",
       "    <tr>\n",
       "      <th>6</th>\n",
       "      <td>48982.230088</td>\n",
       "      <td>32.017699</td>\n",
       "      <td>0.132743</td>\n",
       "      <td>-1.432445</td>\n",
       "      <td>4.008850</td>\n",
       "      <td>56.106195</td>\n",
       "      <td>1.646018</td>\n",
       "      <td>2.557522</td>\n",
       "      <td>38230.088496</td>\n",
       "      <td>2.061947</td>\n",
       "      <td>2.513274</td>\n",
       "      <td>0.300885</td>\n",
       "      <td>7.760472</td>\n",
       "    </tr>\n",
       "    <tr>\n",
       "      <th>11</th>\n",
       "      <td>61519.222222</td>\n",
       "      <td>35.888889</td>\n",
       "      <td>0.000000</td>\n",
       "      <td>-1.221196</td>\n",
       "      <td>4.666667</td>\n",
       "      <td>53.333333</td>\n",
       "      <td>1.666667</td>\n",
       "      <td>2.777778</td>\n",
       "      <td>47111.111111</td>\n",
       "      <td>2.000000</td>\n",
       "      <td>2.222222</td>\n",
       "      <td>0.333333</td>\n",
       "      <td>7.755151</td>\n",
       "    </tr>\n",
       "    <tr>\n",
       "      <th>9</th>\n",
       "      <td>43354.791667</td>\n",
       "      <td>29.208333</td>\n",
       "      <td>0.125000</td>\n",
       "      <td>-1.353823</td>\n",
       "      <td>5.375000</td>\n",
       "      <td>51.250000</td>\n",
       "      <td>1.666667</td>\n",
       "      <td>2.583333</td>\n",
       "      <td>33945.833333</td>\n",
       "      <td>2.333333</td>\n",
       "      <td>2.125000</td>\n",
       "      <td>0.375000</td>\n",
       "      <td>7.762918</td>\n",
       "    </tr>\n",
       "    <tr>\n",
       "      <th>10</th>\n",
       "      <td>54985.000000</td>\n",
       "      <td>32.818182</td>\n",
       "      <td>0.181818</td>\n",
       "      <td>-1.445641</td>\n",
       "      <td>2.545455</td>\n",
       "      <td>45.454545</td>\n",
       "      <td>1.272727</td>\n",
       "      <td>1.909091</td>\n",
       "      <td>24563.636364</td>\n",
       "      <td>2.181818</td>\n",
       "      <td>2.454545</td>\n",
       "      <td>0.454545</td>\n",
       "      <td>7.757781</td>\n",
       "    </tr>\n",
       "    <tr>\n",
       "      <th>14</th>\n",
       "      <td>50330.000000</td>\n",
       "      <td>25.000000</td>\n",
       "      <td>0.500000</td>\n",
       "      <td>-1.637603</td>\n",
       "      <td>12.000000</td>\n",
       "      <td>70.000000</td>\n",
       "      <td>2.000000</td>\n",
       "      <td>3.000000</td>\n",
       "      <td>35000.000000</td>\n",
       "      <td>1.500000</td>\n",
       "      <td>3.000000</td>\n",
       "      <td>0.500000</td>\n",
       "      <td>7.760240</td>\n",
       "    </tr>\n",
       "    <tr>\n",
       "      <th>8</th>\n",
       "      <td>50996.736842</td>\n",
       "      <td>29.157895</td>\n",
       "      <td>0.105263</td>\n",
       "      <td>-1.464614</td>\n",
       "      <td>7.421053</td>\n",
       "      <td>52.631579</td>\n",
       "      <td>1.578947</td>\n",
       "      <td>2.578947</td>\n",
       "      <td>37578.947368</td>\n",
       "      <td>2.210526</td>\n",
       "      <td>2.736842</td>\n",
       "      <td>0.526316</td>\n",
       "      <td>7.759610</td>\n",
       "    </tr>\n",
       "    <tr>\n",
       "      <th>15</th>\n",
       "      <td>21913.000000</td>\n",
       "      <td>21.000000</td>\n",
       "      <td>0.000000</td>\n",
       "      <td>-1.299492</td>\n",
       "      <td>2.000000</td>\n",
       "      <td>40.000000</td>\n",
       "      <td>2.000000</td>\n",
       "      <td>3.000000</td>\n",
       "      <td>20000.000000</td>\n",
       "      <td>3.000000</td>\n",
       "      <td>3.000000</td>\n",
       "      <td>1.000000</td>\n",
       "      <td>7.771910</td>\n",
       "    </tr>\n",
       "    <tr>\n",
       "      <th>19</th>\n",
       "      <td>87451.000000</td>\n",
       "      <td>26.000000</td>\n",
       "      <td>1.000000</td>\n",
       "      <td>-1.265992</td>\n",
       "      <td>1.000000</td>\n",
       "      <td>50.000000</td>\n",
       "      <td>2.000000</td>\n",
       "      <td>3.000000</td>\n",
       "      <td>31000.000000</td>\n",
       "      <td>1.000000</td>\n",
       "      <td>3.000000</td>\n",
       "      <td>1.000000</td>\n",
       "      <td>7.744570</td>\n",
       "    </tr>\n",
       "    <tr>\n",
       "      <th>22</th>\n",
       "      <td>37005.000000</td>\n",
       "      <td>22.000000</td>\n",
       "      <td>0.000000</td>\n",
       "      <td>-1.720038</td>\n",
       "      <td>3.000000</td>\n",
       "      <td>60.000000</td>\n",
       "      <td>2.000000</td>\n",
       "      <td>3.000000</td>\n",
       "      <td>40000.000000</td>\n",
       "      <td>4.000000</td>\n",
       "      <td>1.000000</td>\n",
       "      <td>1.000000</td>\n",
       "      <td>7.765569</td>\n",
       "    </tr>\n",
       "  </tbody>\n",
       "</table>\n",
       "</div>"
      ],
      "text/plain": [
       "                     client_id        age  good_work  score_bki  \\\n",
       "decline_app_cnt                                                   \n",
       "33               108743.000000  42.000000   0.000000  -0.988195   \n",
       "16                23566.000000  32.500000   0.000000  -1.719010   \n",
       "13                43168.000000  33.333333   0.000000  -1.210857   \n",
       "12                35456.500000  24.500000   0.000000  -1.438279   \n",
       "24                87562.000000  48.000000   0.000000  -0.616087   \n",
       "0                 55410.435783  39.875600   0.170647  -1.950159   \n",
       "1                 54609.318090  37.100631   0.138621  -1.733486   \n",
       "2                 52510.938006  35.714344   0.134117  -1.617417   \n",
       "5                 49870.860606  32.957576   0.157576  -1.507171   \n",
       "3                 51839.901440  34.385382   0.121816  -1.569281   \n",
       "4                 53084.082126  34.108696   0.157005  -1.548978   \n",
       "7                 55626.291667  34.604167   0.062500  -1.386799   \n",
       "6                 48982.230088  32.017699   0.132743  -1.432445   \n",
       "11                61519.222222  35.888889   0.000000  -1.221196   \n",
       "9                 43354.791667  29.208333   0.125000  -1.353823   \n",
       "10                54985.000000  32.818182   0.181818  -1.445641   \n",
       "14                50330.000000  25.000000   0.500000  -1.637603   \n",
       "8                 50996.736842  29.157895   0.105263  -1.464614   \n",
       "15                21913.000000  21.000000   0.000000  -1.299492   \n",
       "19                87451.000000  26.000000   1.000000  -1.265992   \n",
       "22                37005.000000  22.000000   0.000000  -1.720038   \n",
       "\n",
       "                 bki_request_cnt  region_rating  home_address  work_address  \\\n",
       "decline_app_cnt                                                               \n",
       "33                      2.000000      50.000000      2.000000      3.000000   \n",
       "16                      5.000000      55.000000      1.500000      2.500000   \n",
       "13                      6.000000      46.666667      2.000000      3.000000   \n",
       "12                      7.000000      55.000000      2.000000      2.500000   \n",
       "24                      3.000000      40.000000      2.000000      3.000000   \n",
       "0                       1.854935      56.959682      1.573104      2.490737   \n",
       "1                       2.480291      55.846136      1.583304      2.518280   \n",
       "2                       2.829417      55.356564      1.594408      2.540113   \n",
       "5                       3.666667      54.606061      1.600000      2.484848   \n",
       "3                       3.311185      54.573643      1.580288      2.507198   \n",
       "4                       3.818841      54.975845      1.596618      2.553140   \n",
       "7                       4.562500      55.625000      1.687500      2.562500   \n",
       "6                       4.008850      56.106195      1.646018      2.557522   \n",
       "11                      4.666667      53.333333      1.666667      2.777778   \n",
       "9                       5.375000      51.250000      1.666667      2.583333   \n",
       "10                      2.545455      45.454545      1.272727      1.909091   \n",
       "14                     12.000000      70.000000      2.000000      3.000000   \n",
       "8                       7.421053      52.631579      1.578947      2.578947   \n",
       "15                      2.000000      40.000000      2.000000      3.000000   \n",
       "19                      1.000000      50.000000      2.000000      3.000000   \n",
       "22                      3.000000      60.000000      2.000000      3.000000   \n",
       "\n",
       "                        income       sna  first_time   default  days_passed  \n",
       "decline_app_cnt                                                              \n",
       "33                20000.000000  4.000000    1.000000  0.000000     7.733246  \n",
       "16                57500.000000  1.000000    3.000000  0.000000     7.771251  \n",
       "13                41666.666667  3.333333    2.000000  0.000000     7.762942  \n",
       "12                25500.000000  3.000000    1.500000  0.000000     7.766325  \n",
       "24               320000.000000  1.000000    3.000000  0.000000     7.744570  \n",
       "0                 41662.799441  1.699644    2.799229  0.109534     7.757680  \n",
       "1                 38905.923068  1.848994    2.636180  0.187805     7.758026  \n",
       "2                 37664.629254  1.973258    2.562804  0.243517     7.758919  \n",
       "5                 35348.181818  1.921212    2.496970  0.260606     7.760050  \n",
       "3                 36429.379845  2.001107    2.473976  0.273533     7.759213  \n",
       "4                 35780.917874  2.050725    2.531401  0.289855     7.758704  \n",
       "7                 46875.000000  2.083333    2.395833  0.291667     7.757619  \n",
       "6                 38230.088496  2.061947    2.513274  0.300885     7.760472  \n",
       "11                47111.111111  2.000000    2.222222  0.333333     7.755151  \n",
       "9                 33945.833333  2.333333    2.125000  0.375000     7.762918  \n",
       "10                24563.636364  2.181818    2.454545  0.454545     7.757781  \n",
       "14                35000.000000  1.500000    3.000000  0.500000     7.760240  \n",
       "8                 37578.947368  2.210526    2.736842  0.526316     7.759610  \n",
       "15                20000.000000  3.000000    3.000000  1.000000     7.771910  \n",
       "19                31000.000000  1.000000    3.000000  1.000000     7.744570  \n",
       "22                40000.000000  4.000000    1.000000  1.000000     7.765569  "
      ]
     },
     "execution_count": 20,
     "metadata": {},
     "output_type": "execute_result"
    }
   ],
   "source": [
    "train.groupby('decline_app_cnt').mean().sort_values(by = 'default')"
   ]
  },
  {
   "cell_type": "markdown",
   "execution_count": null,
   "metadata": {},
   "source": [
    "Явной зависимости нет, но можно предположить, что количество отказов обычно не превышает 3-4. В выборке совершенно разные полюса по тем, кто много раз получал откат есть и 0 и 1, но т.к. эти случаи единичны, то скорее всего они портят картину. Поэтому заменяем все, что больше 3 на 3."
   ]
  },
  {
   "cell_type": "code",
   "execution_count": 21,
   "metadata": {},
   "outputs": [
    {
     "data": {
      "image/png": "[encoded data removed]",
      "text/plain": [
       "<Figure size 432x288 with 1 Axes>"
      ]
     },
     "metadata": {
      "needs_background": "light"
     },
     "output_type": "display_data"
    },
    {
     "data": {
      "image/png": "[encoded data removed]",
      "text/plain": [
       "<Figure size 432x288 with 1 Axes>"
      ]
     },
     "metadata": {
      "needs_background": "light"
     },
     "output_type": "display_data"
    }
   ],
   "source": [
    "def decline_conv(num):\n",
    "    if num > 3:\n",
    "        return 3\n",
    "    else:\n",
    "        return num\n",
    "\n",
    "train['decline_app_cnt'] = train['decline_app_cnt'].apply(decline_conv)\n",
    "test['decline_app_cnt'] = test['decline_app_cnt'].apply(decline_conv)\n",
    "dataset['decline_app_cnt'] = dataset['decline_app_cnt'].apply(decline_conv)\n",
    "\n",
    "sns.distplot(dataset['decline_app_cnt'], kde = False, rug=False)\n",
    "plt.show()\n",
    "\n",
    "sns.boxplot(dataset['decline_app_cnt'])\n",
    "plt.show()\n",
    "\n",
    "\n"
   ]
  },
  {
   "cell_type": "markdown",
   "execution_count": null,
   "metadata": {},
   "source": [
    "Логорифмировать не будем, оставим как категорию"
   ]
  },
  {
   "cell_type": "markdown",
   "execution_count": null,
   "metadata": {},
   "source": [
    "### 4. Признак 'age'"
   ]
  },
  {
   "cell_type": "code",
   "execution_count": 22,
   "metadata": {},
   "outputs": [
    {
     "data": {
      "image/png": "[encoded data removed]",
      "text/plain": [
       "<Figure size 432x288 with 1 Axes>"
      ]
     },
     "metadata": {
      "needs_background": "light"
     },
     "output_type": "display_data"
    },
    {
     "data": {
      "image/png": "[encoded data removed]",
      "text/plain": [
       "<Figure size 432x288 with 1 Axes>"
      ]
     },
     "metadata": {
      "needs_background": "light"
     },
     "output_type": "display_data"
    }
   ],
   "source": [
    "sns.distplot(dataset['age'], kde = False, rug=False)\n",
    "plt.show()\n",
    "\n",
    "sns.boxplot(dataset['age'])\n",
    "plt.show()"
   ]
  },
  {
   "cell_type": "markdown",
   "execution_count": null,
   "metadata": {},
   "source": [
    "Тут все нормально, берем логарифм"
   ]
  },
  {
   "cell_type": "code",
   "execution_count": 23,
   "metadata": {},
   "outputs": [
    {
     "data": {
      "image/png": "[encoded data removed]",
      "text/plain": [
       "<Figure size 432x288 with 1 Axes>"
      ]
     },
     "metadata": {
      "needs_background": "light"
     },
     "output_type": "display_data"
    },
    {
     "data": {
      "image/png": "[encoded data removed]",
      "text/plain": [
       "<Figure size 432x288 with 1 Axes>"
      ]
     },
     "metadata": {
      "needs_background": "light"
     },
     "output_type": "display_data"
    }
   ],
   "source": [
    "dataset['age'] = np.log(dataset['age'] + 1)\n",
    "train['age'] = np.log(train['age'] + 1)\n",
    "test['age'] = np.log(test['age'] + 1)\n",
    "\n",
    "sns.distplot(dataset['age'], kde = False, rug=False)\n",
    "plt.show()\n",
    "\n",
    "sns.boxplot(dataset['age'])\n",
    "plt.show()"
   ]
  },
  {
   "cell_type": "markdown",
   "execution_count": null,
   "metadata": {},
   "source": [
    "### 5. Признак 'score_bki'"
   ]
  },
  {
   "cell_type": "code",
   "execution_count": 24,
   "metadata": {},
   "outputs": [
    {
     "data": {
      "image/png": "[encoded data removed]",
      "text/plain": [
       "<Figure size 432x288 with 1 Axes>"
      ]
     },
     "metadata": {
      "needs_background": "light"
     },
     "output_type": "display_data"
    },
    {
     "data": {
      "image/png": "[encoded data removed]",
      "text/plain": [
       "<Figure size 432x288 with 1 Axes>"
      ]
     },
     "metadata": {
      "needs_background": "light"
     },
     "output_type": "display_data"
    }
   ],
   "source": [
    "sns.distplot(dataset['score_bki'], kde = False, rug=False)\n",
    "plt.show()\n",
    "\n",
    "sns.boxplot(dataset['score_bki'])\n",
    "plt.show()"
   ]
  },
  {
   "cell_type": "markdown",
   "execution_count": null,
   "metadata": {},
   "source": [
    "Распределение нормальное, но есть выбросы. Т.к. это похоже основной параметр, на который ориентируется расчет, посмотрим по внимательнее на границы."
   ]
  },
  {
   "cell_type": "code",
   "execution_count": 25,
   "metadata": {},
   "outputs": [
    {
     "data": {
      "image/png": "[encoded data removed]",
      "text/plain": [
       "<Figure size 432x288 with 1 Axes>"
      ]
     },
     "metadata": {
      "needs_background": "light"
     },
     "output_type": "display_data"
    },
    {
     "data": {
      "image/png": "[encoded data removed]",
      "text/plain": [
       "<Figure size 432x288 with 1 Axes>"
      ]
     },
     "metadata": {
      "needs_background": "light"
     },
     "output_type": "display_data"
    }
   ],
   "source": [
    "train[train['score_bki'] > -0.5].describe()\n",
    "sns.distplot(dataset['score_bki'][dataset['score_bki'] > -0.5], kde = False, rug=False)\n",
    "plt.show()\n",
    "\n",
    "train[train['score_bki'] < -3.3].describe()\n",
    "sns.distplot(dataset['score_bki'][dataset['score_bki'] < -3.3], kde = False, rug=False)\n",
    "plt.show()"
   ]
  },
  {
   "cell_type": "code",
   "execution_count": 26,
   "metadata": {},
   "outputs": [
    {
     "data": {
      "text/html": [
       "<div>\n",
       "<style scoped>\n",
       "    .dataframe tbody tr th:only-of-type {\n",
       "        vertical-align: middle;\n",
       "    }\n",
       "\n",
       "    .dataframe tbody tr th {\n",
       "        vertical-align: top;\n",
       "    }\n",
       "\n",
       "    .dataframe thead th {\n",
       "        text-align: right;\n",
       "    }\n",
       "</style>\n",
       "<table border=\"1\" class=\"dataframe\">\n",
       "  <thead>\n",
       "    <tr style=\"text-align: right;\">\n",
       "      <th></th>\n",
       "      <th>client_id</th>\n",
       "      <th>age</th>\n",
       "      <th>decline_app_cnt</th>\n",
       "      <th>good_work</th>\n",
       "      <th>score_bki</th>\n",
       "      <th>bki_request_cnt</th>\n",
       "      <th>region_rating</th>\n",
       "      <th>home_address</th>\n",
       "      <th>work_address</th>\n",
       "      <th>income</th>\n",
       "      <th>sna</th>\n",
       "      <th>first_time</th>\n",
       "      <th>default</th>\n",
       "      <th>days_passed</th>\n",
       "    </tr>\n",
       "  </thead>\n",
       "  <tbody>\n",
       "    <tr>\n",
       "      <th>count</th>\n",
       "      <td>10.000000</td>\n",
       "      <td>10.000000</td>\n",
       "      <td>10.000000</td>\n",
       "      <td>10.000000</td>\n",
       "      <td>10.000000</td>\n",
       "      <td>10.000000</td>\n",
       "      <td>10.000000</td>\n",
       "      <td>10.000000</td>\n",
       "      <td>10.000000</td>\n",
       "      <td>10.000000</td>\n",
       "      <td>10.000000</td>\n",
       "      <td>10.000000</td>\n",
       "      <td>10.000000</td>\n",
       "      <td>10.000000</td>\n",
       "    </tr>\n",
       "    <tr>\n",
       "      <th>mean</th>\n",
       "      <td>42878.300000</td>\n",
       "      <td>3.577600</td>\n",
       "      <td>0.300000</td>\n",
       "      <td>0.200000</td>\n",
       "      <td>0.109049</td>\n",
       "      <td>1.100000</td>\n",
       "      <td>54.000000</td>\n",
       "      <td>1.500000</td>\n",
       "      <td>2.600000</td>\n",
       "      <td>36500.000000</td>\n",
       "      <td>1.600000</td>\n",
       "      <td>2.900000</td>\n",
       "      <td>0.500000</td>\n",
       "      <td>7.763056</td>\n",
       "    </tr>\n",
       "    <tr>\n",
       "      <th>std</th>\n",
       "      <td>24624.082129</td>\n",
       "      <td>0.234371</td>\n",
       "      <td>0.948683</td>\n",
       "      <td>0.421637</td>\n",
       "      <td>0.087301</td>\n",
       "      <td>1.595131</td>\n",
       "      <td>17.126977</td>\n",
       "      <td>0.527046</td>\n",
       "      <td>0.516398</td>\n",
       "      <td>27500.505046</td>\n",
       "      <td>0.699206</td>\n",
       "      <td>0.875595</td>\n",
       "      <td>0.527046</td>\n",
       "      <td>0.010614</td>\n",
       "    </tr>\n",
       "    <tr>\n",
       "      <th>min</th>\n",
       "      <td>11365.000000</td>\n",
       "      <td>3.258097</td>\n",
       "      <td>0.000000</td>\n",
       "      <td>0.000000</td>\n",
       "      <td>-0.006805</td>\n",
       "      <td>0.000000</td>\n",
       "      <td>20.000000</td>\n",
       "      <td>1.000000</td>\n",
       "      <td>2.000000</td>\n",
       "      <td>12000.000000</td>\n",
       "      <td>1.000000</td>\n",
       "      <td>1.000000</td>\n",
       "      <td>0.000000</td>\n",
       "      <td>7.745436</td>\n",
       "    </tr>\n",
       "    <tr>\n",
       "      <th>25%</th>\n",
       "      <td>27200.500000</td>\n",
       "      <td>3.409395</td>\n",
       "      <td>0.000000</td>\n",
       "      <td>0.000000</td>\n",
       "      <td>0.029421</td>\n",
       "      <td>0.000000</td>\n",
       "      <td>50.000000</td>\n",
       "      <td>1.000000</td>\n",
       "      <td>2.000000</td>\n",
       "      <td>22500.000000</td>\n",
       "      <td>1.000000</td>\n",
       "      <td>3.000000</td>\n",
       "      <td>0.000000</td>\n",
       "      <td>7.759827</td>\n",
       "    </tr>\n",
       "    <tr>\n",
       "      <th>50%</th>\n",
       "      <td>37411.000000</td>\n",
       "      <td>3.522453</td>\n",
       "      <td>0.000000</td>\n",
       "      <td>0.000000</td>\n",
       "      <td>0.112292</td>\n",
       "      <td>0.500000</td>\n",
       "      <td>50.000000</td>\n",
       "      <td>1.500000</td>\n",
       "      <td>3.000000</td>\n",
       "      <td>30000.000000</td>\n",
       "      <td>1.500000</td>\n",
       "      <td>3.000000</td>\n",
       "      <td>0.500000</td>\n",
       "      <td>7.765563</td>\n",
       "    </tr>\n",
       "    <tr>\n",
       "      <th>75%</th>\n",
       "      <td>49808.500000</td>\n",
       "      <td>3.743120</td>\n",
       "      <td>0.000000</td>\n",
       "      <td>0.000000</td>\n",
       "      <td>0.194456</td>\n",
       "      <td>1.750000</td>\n",
       "      <td>67.500000</td>\n",
       "      <td>2.000000</td>\n",
       "      <td>3.000000</td>\n",
       "      <td>39000.000000</td>\n",
       "      <td>2.000000</td>\n",
       "      <td>3.000000</td>\n",
       "      <td>1.000000</td>\n",
       "      <td>7.769906</td>\n",
       "    </tr>\n",
       "    <tr>\n",
       "      <th>max</th>\n",
       "      <td>84102.000000</td>\n",
       "      <td>3.970292</td>\n",
       "      <td>3.000000</td>\n",
       "      <td>1.000000</td>\n",
       "      <td>0.199773</td>\n",
       "      <td>5.000000</td>\n",
       "      <td>80.000000</td>\n",
       "      <td>2.000000</td>\n",
       "      <td>3.000000</td>\n",
       "      <td>110000.000000</td>\n",
       "      <td>3.000000</td>\n",
       "      <td>4.000000</td>\n",
       "      <td>1.000000</td>\n",
       "      <td>7.776535</td>\n",
       "    </tr>\n",
       "  </tbody>\n",
       "</table>\n",
       "</div>"
      ],
      "text/plain": [
       "          client_id        age  decline_app_cnt  good_work  score_bki  \\\n",
       "count     10.000000  10.000000        10.000000  10.000000  10.000000   \n",
       "mean   42878.300000   3.577600         0.300000   0.200000   0.109049   \n",
       "std    24624.082129   0.234371         0.948683   0.421637   0.087301   \n",
       "min    11365.000000   3.258097         0.000000   0.000000  -0.006805   \n",
       "25%    27200.500000   3.409395         0.000000   0.000000   0.029421   \n",
       "50%    37411.000000   3.522453         0.000000   0.000000   0.112292   \n",
       "75%    49808.500000   3.743120         0.000000   0.000000   0.194456   \n",
       "max    84102.000000   3.970292         3.000000   1.000000   0.199773   \n",
       "\n",
       "       bki_request_cnt  region_rating  home_address  work_address  \\\n",
       "count        10.000000      10.000000     10.000000     10.000000   \n",
       "mean          1.100000      54.000000      1.500000      2.600000   \n",
       "std           1.595131      17.126977      0.527046      0.516398   \n",
       "min           0.000000      20.000000      1.000000      2.000000   \n",
       "25%           0.000000      50.000000      1.000000      2.000000   \n",
       "50%           0.500000      50.000000      1.500000      3.000000   \n",
       "75%           1.750000      67.500000      2.000000      3.000000   \n",
       "max           5.000000      80.000000      2.000000      3.000000   \n",
       "\n",
       "              income        sna  first_time    default  days_passed  \n",
       "count      10.000000  10.000000   10.000000  10.000000    10.000000  \n",
       "mean    36500.000000   1.600000    2.900000   0.500000     7.763056  \n",
       "std     27500.505046   0.699206    0.875595   0.527046     0.010614  \n",
       "min     12000.000000   1.000000    1.000000   0.000000     7.745436  \n",
       "25%     22500.000000   1.000000    3.000000   0.000000     7.759827  \n",
       "50%     30000.000000   1.500000    3.000000   0.500000     7.765563  \n",
       "75%     39000.000000   2.000000    3.000000   1.000000     7.769906  \n",
       "max    110000.000000   3.000000    4.000000   1.000000     7.776535  "
      ]
     },
     "execution_count": 26,
     "metadata": {},
     "output_type": "execute_result"
    }
   ],
   "source": [
    "train[train['score_bki'] > -0.01].describe()"
   ]
  },
  {
   "cell_type": "markdown",
   "execution_count": null,
   "metadata": {},
   "source": [
    "Фиг знает, как этот признак выводился, на всякий случай положительный рейтинг уберу в -0.01 (там где дефолт становится 0.5), чтобы переход знака не повлиял на расчет"
   ]
  },
  {
   "cell_type": "code",
   "execution_count": 27,
   "metadata": {},
   "outputs": [],
   "source": [
    "def score_bki_corr(score):\n",
    "    if score > -0.01:\n",
    "        return -0.01\n",
    "    else:\n",
    "        return score\n",
    "\n",
    "train['score_bki'] = train['score_bki'].apply(score_bki_corr)\n",
    "test['score_bki'] = test['score_bki'].apply(score_bki_corr)"
   ]
  },
  {
   "cell_type": "markdown",
   "execution_count": null,
   "metadata": {},
   "source": [
    "### 6. Признак 'bki_request_cnt'"
   ]
  },
  {
   "cell_type": "code",
   "execution_count": 28,
   "metadata": {},
   "outputs": [
    {
     "data": {
      "image/png": "[encoded data removed]",
      "text/plain": [
       "<Figure size 432x288 with 1 Axes>"
      ]
     },
     "metadata": {
      "needs_background": "light"
     },
     "output_type": "display_data"
    },
    {
     "data": {
      "image/png": "[encoded data removed]",
      "text/plain": [
       "<Figure size 432x288 with 1 Axes>"
      ]
     },
     "metadata": {
      "needs_background": "light"
     },
     "output_type": "display_data"
    }
   ],
   "source": [
    "sns.distplot(dataset['bki_request_cnt'], kde = False, rug=False)\n",
    "plt.show()\n",
    "\n",
    "sns.boxplot(dataset['bki_request_cnt'])\n",
    "plt.show()"
   ]
  },
  {
   "cell_type": "code",
   "execution_count": 29,
   "metadata": {},
   "outputs": [
    {
     "data": {
      "text/html": [
       "<div>\n",
       "<style scoped>\n",
       "    .dataframe tbody tr th:only-of-type {\n",
       "        vertical-align: middle;\n",
       "    }\n",
       "\n",
       "    .dataframe tbody tr th {\n",
       "        vertical-align: top;\n",
       "    }\n",
       "\n",
       "    .dataframe thead th {\n",
       "        text-align: right;\n",
       "    }\n",
       "</style>\n",
       "<table border=\"1\" class=\"dataframe\">\n",
       "  <thead>\n",
       "    <tr style=\"text-align: right;\">\n",
       "      <th></th>\n",
       "      <th>client_id</th>\n",
       "      <th>age</th>\n",
       "      <th>decline_app_cnt</th>\n",
       "      <th>good_work</th>\n",
       "      <th>score_bki</th>\n",
       "      <th>region_rating</th>\n",
       "      <th>home_address</th>\n",
       "      <th>work_address</th>\n",
       "      <th>income</th>\n",
       "      <th>sna</th>\n",
       "      <th>first_time</th>\n",
       "      <th>default</th>\n",
       "      <th>days_passed</th>\n",
       "    </tr>\n",
       "    <tr>\n",
       "      <th>bki_request_cnt</th>\n",
       "      <th></th>\n",
       "      <th></th>\n",
       "      <th></th>\n",
       "      <th></th>\n",
       "      <th></th>\n",
       "      <th></th>\n",
       "      <th></th>\n",
       "      <th></th>\n",
       "      <th></th>\n",
       "      <th></th>\n",
       "      <th></th>\n",
       "      <th></th>\n",
       "      <th></th>\n",
       "    </tr>\n",
       "  </thead>\n",
       "  <tbody>\n",
       "    <tr>\n",
       "      <th>53</th>\n",
       "      <td>12395.000000</td>\n",
       "      <td>3.663562</td>\n",
       "      <td>0.000000</td>\n",
       "      <td>0.000000</td>\n",
       "      <td>-2.623103</td>\n",
       "      <td>60.000000</td>\n",
       "      <td>1.000000</td>\n",
       "      <td>1.000000</td>\n",
       "      <td>65000.000000</td>\n",
       "      <td>1.000000</td>\n",
       "      <td>3.000000</td>\n",
       "      <td>0.000000</td>\n",
       "      <td>7.775696</td>\n",
       "    </tr>\n",
       "    <tr>\n",
       "      <th>36</th>\n",
       "      <td>59365.000000</td>\n",
       "      <td>3.891820</td>\n",
       "      <td>3.000000</td>\n",
       "      <td>0.000000</td>\n",
       "      <td>-1.422165</td>\n",
       "      <td>80.000000</td>\n",
       "      <td>2.000000</td>\n",
       "      <td>3.000000</td>\n",
       "      <td>58290.000000</td>\n",
       "      <td>1.000000</td>\n",
       "      <td>2.000000</td>\n",
       "      <td>0.000000</td>\n",
       "      <td>7.756195</td>\n",
       "    </tr>\n",
       "    <tr>\n",
       "      <th>34</th>\n",
       "      <td>73506.000000</td>\n",
       "      <td>3.555348</td>\n",
       "      <td>2.000000</td>\n",
       "      <td>0.000000</td>\n",
       "      <td>-1.680424</td>\n",
       "      <td>50.000000</td>\n",
       "      <td>1.000000</td>\n",
       "      <td>2.000000</td>\n",
       "      <td>40000.000000</td>\n",
       "      <td>2.000000</td>\n",
       "      <td>3.000000</td>\n",
       "      <td>0.000000</td>\n",
       "      <td>7.750184</td>\n",
       "    </tr>\n",
       "    <tr>\n",
       "      <th>33</th>\n",
       "      <td>14058.000000</td>\n",
       "      <td>3.871201</td>\n",
       "      <td>3.000000</td>\n",
       "      <td>0.000000</td>\n",
       "      <td>-1.097846</td>\n",
       "      <td>70.000000</td>\n",
       "      <td>2.000000</td>\n",
       "      <td>3.000000</td>\n",
       "      <td>30000.000000</td>\n",
       "      <td>1.000000</td>\n",
       "      <td>1.000000</td>\n",
       "      <td>0.000000</td>\n",
       "      <td>7.775276</td>\n",
       "    </tr>\n",
       "    <tr>\n",
       "      <th>26</th>\n",
       "      <td>54508.500000</td>\n",
       "      <td>3.215666</td>\n",
       "      <td>2.000000</td>\n",
       "      <td>0.000000</td>\n",
       "      <td>-1.115958</td>\n",
       "      <td>60.000000</td>\n",
       "      <td>1.500000</td>\n",
       "      <td>3.000000</td>\n",
       "      <td>37500.000000</td>\n",
       "      <td>1.500000</td>\n",
       "      <td>1.500000</td>\n",
       "      <td>0.000000</td>\n",
       "      <td>7.758235</td>\n",
       "    </tr>\n",
       "    <tr>\n",
       "      <th>25</th>\n",
       "      <td>25453.500000</td>\n",
       "      <td>4.102336</td>\n",
       "      <td>0.000000</td>\n",
       "      <td>0.000000</td>\n",
       "      <td>-1.472514</td>\n",
       "      <td>65.000000</td>\n",
       "      <td>1.500000</td>\n",
       "      <td>2.500000</td>\n",
       "      <td>60000.000000</td>\n",
       "      <td>1.000000</td>\n",
       "      <td>3.500000</td>\n",
       "      <td>0.000000</td>\n",
       "      <td>7.770642</td>\n",
       "    </tr>\n",
       "    <tr>\n",
       "      <th>22</th>\n",
       "      <td>19984.500000</td>\n",
       "      <td>3.747533</td>\n",
       "      <td>0.500000</td>\n",
       "      <td>0.000000</td>\n",
       "      <td>-0.824752</td>\n",
       "      <td>60.000000</td>\n",
       "      <td>1.750000</td>\n",
       "      <td>2.500000</td>\n",
       "      <td>60750.000000</td>\n",
       "      <td>1.750000</td>\n",
       "      <td>3.500000</td>\n",
       "      <td>0.000000</td>\n",
       "      <td>7.772629</td>\n",
       "    </tr>\n",
       "    <tr>\n",
       "      <th>0</th>\n",
       "      <td>54055.176100</td>\n",
       "      <td>3.644378</td>\n",
       "      <td>0.190135</td>\n",
       "      <td>0.162118</td>\n",
       "      <td>-1.968216</td>\n",
       "      <td>57.486714</td>\n",
       "      <td>1.577421</td>\n",
       "      <td>2.502554</td>\n",
       "      <td>39889.908312</td>\n",
       "      <td>1.708890</td>\n",
       "      <td>2.766576</td>\n",
       "      <td>0.094990</td>\n",
       "      <td>7.758266</td>\n",
       "    </tr>\n",
       "    <tr>\n",
       "      <th>1</th>\n",
       "      <td>56527.390293</td>\n",
       "      <td>3.642465</td>\n",
       "      <td>0.207814</td>\n",
       "      <td>0.164861</td>\n",
       "      <td>-1.947477</td>\n",
       "      <td>56.416065</td>\n",
       "      <td>1.569271</td>\n",
       "      <td>2.487306</td>\n",
       "      <td>38516.768385</td>\n",
       "      <td>1.732436</td>\n",
       "      <td>2.757277</td>\n",
       "      <td>0.118790</td>\n",
       "      <td>7.757196</td>\n",
       "    </tr>\n",
       "    <tr>\n",
       "      <th>2</th>\n",
       "      <td>56647.746163</td>\n",
       "      <td>3.651547</td>\n",
       "      <td>0.242563</td>\n",
       "      <td>0.164521</td>\n",
       "      <td>-1.908550</td>\n",
       "      <td>56.172813</td>\n",
       "      <td>1.576115</td>\n",
       "      <td>2.500400</td>\n",
       "      <td>39551.834970</td>\n",
       "      <td>1.752782</td>\n",
       "      <td>2.734963</td>\n",
       "      <td>0.132373</td>\n",
       "      <td>7.757146</td>\n",
       "    </tr>\n",
       "    <tr>\n",
       "      <th>3</th>\n",
       "      <td>55594.391205</td>\n",
       "      <td>3.667730</td>\n",
       "      <td>0.262110</td>\n",
       "      <td>0.164907</td>\n",
       "      <td>-1.867267</td>\n",
       "      <td>56.079242</td>\n",
       "      <td>1.575596</td>\n",
       "      <td>2.492762</td>\n",
       "      <td>42265.097203</td>\n",
       "      <td>1.757048</td>\n",
       "      <td>2.765756</td>\n",
       "      <td>0.145641</td>\n",
       "      <td>7.757593</td>\n",
       "    </tr>\n",
       "    <tr>\n",
       "      <th>4</th>\n",
       "      <td>54128.869202</td>\n",
       "      <td>3.673605</td>\n",
       "      <td>0.301404</td>\n",
       "      <td>0.168651</td>\n",
       "      <td>-1.831450</td>\n",
       "      <td>56.392394</td>\n",
       "      <td>1.574551</td>\n",
       "      <td>2.481607</td>\n",
       "      <td>42632.967656</td>\n",
       "      <td>1.752088</td>\n",
       "      <td>2.784965</td>\n",
       "      <td>0.151235</td>\n",
       "      <td>7.758240</td>\n",
       "    </tr>\n",
       "    <tr>\n",
       "      <th>7</th>\n",
       "      <td>52545.644366</td>\n",
       "      <td>3.699773</td>\n",
       "      <td>0.462441</td>\n",
       "      <td>0.176056</td>\n",
       "      <td>-1.726233</td>\n",
       "      <td>58.485915</td>\n",
       "      <td>1.589202</td>\n",
       "      <td>2.504695</td>\n",
       "      <td>54504.694836</td>\n",
       "      <td>1.714789</td>\n",
       "      <td>2.867371</td>\n",
       "      <td>0.157277</td>\n",
       "      <td>7.758920</td>\n",
       "    </tr>\n",
       "    <tr>\n",
       "      <th>6</th>\n",
       "      <td>52750.737676</td>\n",
       "      <td>3.700944</td>\n",
       "      <td>0.407864</td>\n",
       "      <td>0.173709</td>\n",
       "      <td>-1.759390</td>\n",
       "      <td>56.572770</td>\n",
       "      <td>1.576291</td>\n",
       "      <td>2.471831</td>\n",
       "      <td>46703.005282</td>\n",
       "      <td>1.724178</td>\n",
       "      <td>2.779930</td>\n",
       "      <td>0.163732</td>\n",
       "      <td>7.758819</td>\n",
       "    </tr>\n",
       "    <tr>\n",
       "      <th>19</th>\n",
       "      <td>47549.777778</td>\n",
       "      <td>3.640448</td>\n",
       "      <td>1.166667</td>\n",
       "      <td>0.166667</td>\n",
       "      <td>-1.342832</td>\n",
       "      <td>62.222222</td>\n",
       "      <td>1.666667</td>\n",
       "      <td>2.666667</td>\n",
       "      <td>89055.555556</td>\n",
       "      <td>1.833333</td>\n",
       "      <td>3.000000</td>\n",
       "      <td>0.166667</td>\n",
       "      <td>7.760990</td>\n",
       "    </tr>\n",
       "    <tr>\n",
       "      <th>5</th>\n",
       "      <td>53305.153917</td>\n",
       "      <td>3.684380</td>\n",
       "      <td>0.329559</td>\n",
       "      <td>0.165851</td>\n",
       "      <td>-1.794007</td>\n",
       "      <td>56.845165</td>\n",
       "      <td>1.575887</td>\n",
       "      <td>2.509792</td>\n",
       "      <td>45370.185435</td>\n",
       "      <td>1.728886</td>\n",
       "      <td>2.828641</td>\n",
       "      <td>0.169523</td>\n",
       "      <td>7.758587</td>\n",
       "    </tr>\n",
       "    <tr>\n",
       "      <th>10</th>\n",
       "      <td>51450.333333</td>\n",
       "      <td>3.681688</td>\n",
       "      <td>0.835556</td>\n",
       "      <td>0.177778</td>\n",
       "      <td>-1.619651</td>\n",
       "      <td>60.577778</td>\n",
       "      <td>1.604444</td>\n",
       "      <td>2.568889</td>\n",
       "      <td>60751.160000</td>\n",
       "      <td>1.711111</td>\n",
       "      <td>2.840000</td>\n",
       "      <td>0.177778</td>\n",
       "      <td>7.759437</td>\n",
       "    </tr>\n",
       "    <tr>\n",
       "      <th>14</th>\n",
       "      <td>45351.639535</td>\n",
       "      <td>3.752645</td>\n",
       "      <td>0.767442</td>\n",
       "      <td>0.116279</td>\n",
       "      <td>-1.497742</td>\n",
       "      <td>60.813953</td>\n",
       "      <td>1.627907</td>\n",
       "      <td>2.569767</td>\n",
       "      <td>58348.837209</td>\n",
       "      <td>1.686047</td>\n",
       "      <td>2.779070</td>\n",
       "      <td>0.186047</td>\n",
       "      <td>7.762036</td>\n",
       "    </tr>\n",
       "    <tr>\n",
       "      <th>8</th>\n",
       "      <td>49782.360236</td>\n",
       "      <td>3.690028</td>\n",
       "      <td>0.629921</td>\n",
       "      <td>0.171260</td>\n",
       "      <td>-1.734800</td>\n",
       "      <td>58.287402</td>\n",
       "      <td>1.608268</td>\n",
       "      <td>2.562992</td>\n",
       "      <td>57271.251969</td>\n",
       "      <td>1.667323</td>\n",
       "      <td>2.812992</td>\n",
       "      <td>0.192913</td>\n",
       "      <td>7.760084</td>\n",
       "    </tr>\n",
       "    <tr>\n",
       "      <th>9</th>\n",
       "      <td>50203.799331</td>\n",
       "      <td>3.695904</td>\n",
       "      <td>0.648829</td>\n",
       "      <td>0.173913</td>\n",
       "      <td>-1.634647</td>\n",
       "      <td>59.063545</td>\n",
       "      <td>1.602007</td>\n",
       "      <td>2.515050</td>\n",
       "      <td>59805.799331</td>\n",
       "      <td>1.645485</td>\n",
       "      <td>2.836120</td>\n",
       "      <td>0.193980</td>\n",
       "      <td>7.759895</td>\n",
       "    </tr>\n",
       "    <tr>\n",
       "      <th>11</th>\n",
       "      <td>45064.595745</td>\n",
       "      <td>3.710198</td>\n",
       "      <td>0.675532</td>\n",
       "      <td>0.170213</td>\n",
       "      <td>-1.545439</td>\n",
       "      <td>60.053191</td>\n",
       "      <td>1.579787</td>\n",
       "      <td>2.521277</td>\n",
       "      <td>61346.276596</td>\n",
       "      <td>1.739362</td>\n",
       "      <td>2.819149</td>\n",
       "      <td>0.244681</td>\n",
       "      <td>7.762165</td>\n",
       "    </tr>\n",
       "    <tr>\n",
       "      <th>28</th>\n",
       "      <td>53552.250000</td>\n",
       "      <td>3.667214</td>\n",
       "      <td>1.000000</td>\n",
       "      <td>0.250000</td>\n",
       "      <td>-1.019140</td>\n",
       "      <td>62.500000</td>\n",
       "      <td>1.500000</td>\n",
       "      <td>2.750000</td>\n",
       "      <td>100250.000000</td>\n",
       "      <td>1.000000</td>\n",
       "      <td>2.500000</td>\n",
       "      <td>0.250000</td>\n",
       "      <td>7.758332</td>\n",
       "    </tr>\n",
       "    <tr>\n",
       "      <th>21</th>\n",
       "      <td>35677.583333</td>\n",
       "      <td>3.714456</td>\n",
       "      <td>1.416667</td>\n",
       "      <td>0.166667</td>\n",
       "      <td>-1.440258</td>\n",
       "      <td>60.000000</td>\n",
       "      <td>1.500000</td>\n",
       "      <td>2.416667</td>\n",
       "      <td>84666.666667</td>\n",
       "      <td>1.583333</td>\n",
       "      <td>3.000000</td>\n",
       "      <td>0.250000</td>\n",
       "      <td>7.766216</td>\n",
       "    </tr>\n",
       "    <tr>\n",
       "      <th>12</th>\n",
       "      <td>47685.555556</td>\n",
       "      <td>3.669315</td>\n",
       "      <td>1.000000</td>\n",
       "      <td>0.180556</td>\n",
       "      <td>-1.489647</td>\n",
       "      <td>59.305556</td>\n",
       "      <td>1.631944</td>\n",
       "      <td>2.486111</td>\n",
       "      <td>66504.861111</td>\n",
       "      <td>1.763889</td>\n",
       "      <td>2.895833</td>\n",
       "      <td>0.256944</td>\n",
       "      <td>7.760996</td>\n",
       "    </tr>\n",
       "    <tr>\n",
       "      <th>16</th>\n",
       "      <td>49867.457143</td>\n",
       "      <td>3.712361</td>\n",
       "      <td>1.028571</td>\n",
       "      <td>0.114286</td>\n",
       "      <td>-1.536248</td>\n",
       "      <td>58.285714</td>\n",
       "      <td>1.542857</td>\n",
       "      <td>2.514286</td>\n",
       "      <td>77942.857143</td>\n",
       "      <td>1.571429</td>\n",
       "      <td>2.742857</td>\n",
       "      <td>0.257143</td>\n",
       "      <td>7.760092</td>\n",
       "    </tr>\n",
       "    <tr>\n",
       "      <th>24</th>\n",
       "      <td>32295.636364</td>\n",
       "      <td>3.688148</td>\n",
       "      <td>1.909091</td>\n",
       "      <td>0.272727</td>\n",
       "      <td>-1.198910</td>\n",
       "      <td>62.727273</td>\n",
       "      <td>1.727273</td>\n",
       "      <td>2.727273</td>\n",
       "      <td>55727.272727</td>\n",
       "      <td>2.181818</td>\n",
       "      <td>2.545455</td>\n",
       "      <td>0.272727</td>\n",
       "      <td>7.767702</td>\n",
       "    </tr>\n",
       "    <tr>\n",
       "      <th>13</th>\n",
       "      <td>50891.074468</td>\n",
       "      <td>3.712042</td>\n",
       "      <td>1.063830</td>\n",
       "      <td>0.191489</td>\n",
       "      <td>-1.507192</td>\n",
       "      <td>59.468085</td>\n",
       "      <td>1.574468</td>\n",
       "      <td>2.542553</td>\n",
       "      <td>65221.276596</td>\n",
       "      <td>1.712766</td>\n",
       "      <td>2.893617</td>\n",
       "      <td>0.276596</td>\n",
       "      <td>7.759615</td>\n",
       "    </tr>\n",
       "    <tr>\n",
       "      <th>15</th>\n",
       "      <td>48511.166667</td>\n",
       "      <td>3.719537</td>\n",
       "      <td>1.037037</td>\n",
       "      <td>0.148148</td>\n",
       "      <td>-1.511212</td>\n",
       "      <td>60.555556</td>\n",
       "      <td>1.648148</td>\n",
       "      <td>2.537037</td>\n",
       "      <td>82314.814815</td>\n",
       "      <td>1.833333</td>\n",
       "      <td>2.777778</td>\n",
       "      <td>0.277778</td>\n",
       "      <td>7.760793</td>\n",
       "    </tr>\n",
       "    <tr>\n",
       "      <th>18</th>\n",
       "      <td>55079.363636</td>\n",
       "      <td>3.722644</td>\n",
       "      <td>1.318182</td>\n",
       "      <td>0.272727</td>\n",
       "      <td>-1.268199</td>\n",
       "      <td>58.181818</td>\n",
       "      <td>1.772727</td>\n",
       "      <td>2.818182</td>\n",
       "      <td>87500.000000</td>\n",
       "      <td>2.136364</td>\n",
       "      <td>2.954545</td>\n",
       "      <td>0.363636</td>\n",
       "      <td>7.757851</td>\n",
       "    </tr>\n",
       "    <tr>\n",
       "      <th>17</th>\n",
       "      <td>32440.578947</td>\n",
       "      <td>3.673770</td>\n",
       "      <td>1.631579</td>\n",
       "      <td>0.052632</td>\n",
       "      <td>-1.121535</td>\n",
       "      <td>61.052632</td>\n",
       "      <td>1.631579</td>\n",
       "      <td>2.578947</td>\n",
       "      <td>67789.473684</td>\n",
       "      <td>1.578947</td>\n",
       "      <td>3.000000</td>\n",
       "      <td>0.368421</td>\n",
       "      <td>7.767740</td>\n",
       "    </tr>\n",
       "    <tr>\n",
       "      <th>23</th>\n",
       "      <td>45001.142857</td>\n",
       "      <td>3.835571</td>\n",
       "      <td>1.428571</td>\n",
       "      <td>0.428571</td>\n",
       "      <td>-1.251419</td>\n",
       "      <td>62.857143</td>\n",
       "      <td>1.857143</td>\n",
       "      <td>2.714286</td>\n",
       "      <td>59700.000000</td>\n",
       "      <td>1.428571</td>\n",
       "      <td>3.142857</td>\n",
       "      <td>0.428571</td>\n",
       "      <td>7.762430</td>\n",
       "    </tr>\n",
       "    <tr>\n",
       "      <th>20</th>\n",
       "      <td>47088.777778</td>\n",
       "      <td>3.701286</td>\n",
       "      <td>1.222222</td>\n",
       "      <td>0.111111</td>\n",
       "      <td>-1.463825</td>\n",
       "      <td>60.000000</td>\n",
       "      <td>1.555556</td>\n",
       "      <td>2.444444</td>\n",
       "      <td>94000.000000</td>\n",
       "      <td>2.333333</td>\n",
       "      <td>2.555556</td>\n",
       "      <td>0.444444</td>\n",
       "      <td>7.761390</td>\n",
       "    </tr>\n",
       "    <tr>\n",
       "      <th>32</th>\n",
       "      <td>48825.500000</td>\n",
       "      <td>4.025192</td>\n",
       "      <td>0.500000</td>\n",
       "      <td>0.000000</td>\n",
       "      <td>-1.046335</td>\n",
       "      <td>70.000000</td>\n",
       "      <td>2.000000</td>\n",
       "      <td>3.000000</td>\n",
       "      <td>375000.000000</td>\n",
       "      <td>2.500000</td>\n",
       "      <td>2.500000</td>\n",
       "      <td>0.500000</td>\n",
       "      <td>7.760670</td>\n",
       "    </tr>\n",
       "    <tr>\n",
       "      <th>29</th>\n",
       "      <td>297.000000</td>\n",
       "      <td>3.332205</td>\n",
       "      <td>3.000000</td>\n",
       "      <td>1.000000</td>\n",
       "      <td>-1.103874</td>\n",
       "      <td>50.000000</td>\n",
       "      <td>2.000000</td>\n",
       "      <td>3.000000</td>\n",
       "      <td>36000.000000</td>\n",
       "      <td>1.000000</td>\n",
       "      <td>3.000000</td>\n",
       "      <td>1.000000</td>\n",
       "      <td>7.782807</td>\n",
       "    </tr>\n",
       "    <tr>\n",
       "      <th>27</th>\n",
       "      <td>54742.000000</td>\n",
       "      <td>3.515429</td>\n",
       "      <td>3.000000</td>\n",
       "      <td>1.000000</td>\n",
       "      <td>-1.148722</td>\n",
       "      <td>50.000000</td>\n",
       "      <td>1.500000</td>\n",
       "      <td>2.500000</td>\n",
       "      <td>45000.000000</td>\n",
       "      <td>1.000000</td>\n",
       "      <td>3.000000</td>\n",
       "      <td>1.000000</td>\n",
       "      <td>7.757899</td>\n",
       "    </tr>\n",
       "    <tr>\n",
       "      <th>41</th>\n",
       "      <td>31281.000000</td>\n",
       "      <td>3.433987</td>\n",
       "      <td>0.000000</td>\n",
       "      <td>0.000000</td>\n",
       "      <td>-0.223299</td>\n",
       "      <td>50.000000</td>\n",
       "      <td>2.000000</td>\n",
       "      <td>3.000000</td>\n",
       "      <td>35000.000000</td>\n",
       "      <td>4.000000</td>\n",
       "      <td>2.000000</td>\n",
       "      <td>1.000000</td>\n",
       "      <td>7.768110</td>\n",
       "    </tr>\n",
       "    <tr>\n",
       "      <th>45</th>\n",
       "      <td>2498.000000</td>\n",
       "      <td>3.931826</td>\n",
       "      <td>3.000000</td>\n",
       "      <td>0.000000</td>\n",
       "      <td>-0.481892</td>\n",
       "      <td>50.000000</td>\n",
       "      <td>2.000000</td>\n",
       "      <td>3.000000</td>\n",
       "      <td>25000.000000</td>\n",
       "      <td>4.000000</td>\n",
       "      <td>3.000000</td>\n",
       "      <td>1.000000</td>\n",
       "      <td>7.780721</td>\n",
       "    </tr>\n",
       "    <tr>\n",
       "      <th>46</th>\n",
       "      <td>27324.000000</td>\n",
       "      <td>3.433987</td>\n",
       "      <td>3.000000</td>\n",
       "      <td>0.000000</td>\n",
       "      <td>-0.702280</td>\n",
       "      <td>50.000000</td>\n",
       "      <td>2.000000</td>\n",
       "      <td>3.000000</td>\n",
       "      <td>57000.000000</td>\n",
       "      <td>1.000000</td>\n",
       "      <td>3.000000</td>\n",
       "      <td>1.000000</td>\n",
       "      <td>7.769801</td>\n",
       "    </tr>\n",
       "  </tbody>\n",
       "</table>\n",
       "</div>"
      ],
      "text/plain": [
       "                    client_id       age  decline_app_cnt  good_work  \\\n",
       "bki_request_cnt                                                       \n",
       "53               12395.000000  3.663562         0.000000   0.000000   \n",
       "36               59365.000000  3.891820         3.000000   0.000000   \n",
       "34               73506.000000  3.555348         2.000000   0.000000   \n",
       "33               14058.000000  3.871201         3.000000   0.000000   \n",
       "26               54508.500000  3.215666         2.000000   0.000000   \n",
       "25               25453.500000  4.102336         0.000000   0.000000   \n",
       "22               19984.500000  3.747533         0.500000   0.000000   \n",
       "0                54055.176100  3.644378         0.190135   0.162118   \n",
       "1                56527.390293  3.642465         0.207814   0.164861   \n",
       "2                56647.746163  3.651547         0.242563   0.164521   \n",
       "3                55594.391205  3.667730         0.262110   0.164907   \n",
       "4                54128.869202  3.673605         0.301404   0.168651   \n",
       "7                52545.644366  3.699773         0.462441   0.176056   \n",
       "6                52750.737676  3.700944         0.407864   0.173709   \n",
       "19               47549.777778  3.640448         1.166667   0.166667   \n",
       "5                53305.153917  3.684380         0.329559   0.165851   \n",
       "10               51450.333333  3.681688         0.835556   0.177778   \n",
       "14               45351.639535  3.752645         0.767442   0.116279   \n",
       "8                49782.360236  3.690028         0.629921   0.171260   \n",
       "9                50203.799331  3.695904         0.648829   0.173913   \n",
       "11               45064.595745  3.710198         0.675532   0.170213   \n",
       "28               53552.250000  3.667214         1.000000   0.250000   \n",
       "21               35677.583333  3.714456         1.416667   0.166667   \n",
       "12               47685.555556  3.669315         1.000000   0.180556   \n",
       "16               49867.457143  3.712361         1.028571   0.114286   \n",
       "24               32295.636364  3.688148         1.909091   0.272727   \n",
       "13               50891.074468  3.712042         1.063830   0.191489   \n",
       "15               48511.166667  3.719537         1.037037   0.148148   \n",
       "18               55079.363636  3.722644         1.318182   0.272727   \n",
       "17               32440.578947  3.673770         1.631579   0.052632   \n",
       "23               45001.142857  3.835571         1.428571   0.428571   \n",
       "20               47088.777778  3.701286         1.222222   0.111111   \n",
       "32               48825.500000  4.025192         0.500000   0.000000   \n",
       "29                 297.000000  3.332205         3.000000   1.000000   \n",
       "27               54742.000000  3.515429         3.000000   1.000000   \n",
       "41               31281.000000  3.433987         0.000000   0.000000   \n",
       "45                2498.000000  3.931826         3.000000   0.000000   \n",
       "46               27324.000000  3.433987         3.000000   0.000000   \n",
       "\n",
       "                 score_bki  region_rating  home_address  work_address  \\\n",
       "bki_request_cnt                                                         \n",
       "53               -2.623103      60.000000      1.000000      1.000000   \n",
       "36               -1.422165      80.000000      2.000000      3.000000   \n",
       "34               -1.680424      50.000000      1.000000      2.000000   \n",
       "33               -1.097846      70.000000      2.000000      3.000000   \n",
       "26               -1.115958      60.000000      1.500000      3.000000   \n",
       "25               -1.472514      65.000000      1.500000      2.500000   \n",
       "22               -0.824752      60.000000      1.750000      2.500000   \n",
       "0                -1.968216      57.486714      1.577421      2.502554   \n",
       "1                -1.947477      56.416065      1.569271      2.487306   \n",
       "2                -1.908550      56.172813      1.576115      2.500400   \n",
       "3                -1.867267      56.079242      1.575596      2.492762   \n",
       "4                -1.831450      56.392394      1.574551      2.481607   \n",
       "7                -1.726233      58.485915      1.589202      2.504695   \n",
       "6                -1.759390      56.572770      1.576291      2.471831   \n",
       "19               -1.342832      62.222222      1.666667      2.666667   \n",
       "5                -1.794007      56.845165      1.575887      2.509792   \n",
       "10               -1.619651      60.577778      1.604444      2.568889   \n",
       "14               -1.497742      60.813953      1.627907      2.569767   \n",
       "8                -1.734800      58.287402      1.608268      2.562992   \n",
       "9                -1.634647      59.063545      1.602007      2.515050   \n",
       "11               -1.545439      60.053191      1.579787      2.521277   \n",
       "28               -1.019140      62.500000      1.500000      2.750000   \n",
       "21               -1.440258      60.000000      1.500000      2.416667   \n",
       "12               -1.489647      59.305556      1.631944      2.486111   \n",
       "16               -1.536248      58.285714      1.542857      2.514286   \n",
       "24               -1.198910      62.727273      1.727273      2.727273   \n",
       "13               -1.507192      59.468085      1.574468      2.542553   \n",
       "15               -1.511212      60.555556      1.648148      2.537037   \n",
       "18               -1.268199      58.181818      1.772727      2.818182   \n",
       "17               -1.121535      61.052632      1.631579      2.578947   \n",
       "23               -1.251419      62.857143      1.857143      2.714286   \n",
       "20               -1.463825      60.000000      1.555556      2.444444   \n",
       "32               -1.046335      70.000000      2.000000      3.000000   \n",
       "29               -1.103874      50.000000      2.000000      3.000000   \n",
       "27               -1.148722      50.000000      1.500000      2.500000   \n",
       "41               -0.223299      50.000000      2.000000      3.000000   \n",
       "45               -0.481892      50.000000      2.000000      3.000000   \n",
       "46               -0.702280      50.000000      2.000000      3.000000   \n",
       "\n",
       "                        income       sna  first_time   default  days_passed  \n",
       "bki_request_cnt                                                              \n",
       "53                65000.000000  1.000000    3.000000  0.000000     7.775696  \n",
       "36                58290.000000  1.000000    2.000000  0.000000     7.756195  \n",
       "34                40000.000000  2.000000    3.000000  0.000000     7.750184  \n",
       "33                30000.000000  1.000000    1.000000  0.000000     7.775276  \n",
       "26                37500.000000  1.500000    1.500000  0.000000     7.758235  \n",
       "25                60000.000000  1.000000    3.500000  0.000000     7.770642  \n",
       "22                60750.000000  1.750000    3.500000  0.000000     7.772629  \n",
       "0                 39889.908312  1.708890    2.766576  0.094990     7.758266  \n",
       "1                 38516.768385  1.732436    2.757277  0.118790     7.757196  \n",
       "2                 39551.834970  1.752782    2.734963  0.132373     7.757146  \n",
       "3                 42265.097203  1.757048    2.765756  0.145641     7.757593  \n",
       "4                 42632.967656  1.752088    2.784965  0.151235     7.758240  \n",
       "7                 54504.694836  1.714789    2.867371  0.157277     7.758920  \n",
       "6                 46703.005282  1.724178    2.779930  0.163732     7.758819  \n",
       "19                89055.555556  1.833333    3.000000  0.166667     7.760990  \n",
       "5                 45370.185435  1.728886    2.828641  0.169523     7.758587  \n",
       "10                60751.160000  1.711111    2.840000  0.177778     7.759437  \n",
       "14                58348.837209  1.686047    2.779070  0.186047     7.762036  \n",
       "8                 57271.251969  1.667323    2.812992  0.192913     7.760084  \n",
       "9                 59805.799331  1.645485    2.836120  0.193980     7.759895  \n",
       "11                61346.276596  1.739362    2.819149  0.244681     7.762165  \n",
       "28               100250.000000  1.000000    2.500000  0.250000     7.758332  \n",
       "21                84666.666667  1.583333    3.000000  0.250000     7.766216  \n",
       "12                66504.861111  1.763889    2.895833  0.256944     7.760996  \n",
       "16                77942.857143  1.571429    2.742857  0.257143     7.760092  \n",
       "24                55727.272727  2.181818    2.545455  0.272727     7.767702  \n",
       "13                65221.276596  1.712766    2.893617  0.276596     7.759615  \n",
       "15                82314.814815  1.833333    2.777778  0.277778     7.760793  \n",
       "18                87500.000000  2.136364    2.954545  0.363636     7.757851  \n",
       "17                67789.473684  1.578947    3.000000  0.368421     7.767740  \n",
       "23                59700.000000  1.428571    3.142857  0.428571     7.762430  \n",
       "20                94000.000000  2.333333    2.555556  0.444444     7.761390  \n",
       "32               375000.000000  2.500000    2.500000  0.500000     7.760670  \n",
       "29                36000.000000  1.000000    3.000000  1.000000     7.782807  \n",
       "27                45000.000000  1.000000    3.000000  1.000000     7.757899  \n",
       "41                35000.000000  4.000000    2.000000  1.000000     7.768110  \n",
       "45                25000.000000  4.000000    3.000000  1.000000     7.780721  \n",
       "46                57000.000000  1.000000    3.000000  1.000000     7.769801  "
      ]
     },
     "execution_count": 29,
     "metadata": {},
     "output_type": "execute_result"
    }
   ],
   "source": [
    "train.groupby('bki_request_cnt').mean().sort_values(by = 'default')"
   ]
  },
  {
   "cell_type": "markdown",
   "execution_count": null,
   "metadata": {},
   "source": [
    "Какая то зависимость есть от 0 до 4 запросов, сделаем их категориальными, а остальные в случайном порядке размажем по оставшимся категориям и логарифмируем."
   ]
  },
  {
   "cell_type": "code",
   "execution_count": 30,
   "metadata": {},
   "outputs": [
    {
     "data": {
      "image/png": "[encoded data removed]",
      "text/plain": [
       "<Figure size 432x288 with 1 Axes>"
      ]
     },
     "metadata": {
      "needs_background": "light"
     },
     "output_type": "display_data"
    },
    {
     "data": {
      "image/png": "[encoded data removed]",
      "text/plain": [
       "<Figure size 432x288 with 1 Axes>"
      ]
     },
     "metadata": {
      "needs_background": "light"
     },
     "output_type": "display_data"
    }
   ],
   "source": [
    "def bki_req_conv(num):\n",
    "    if num > 4:\n",
    "        return random.randint(0, 4)\n",
    "    else:\n",
    "        return num\n",
    "\n",
    "train['bki_request_cnt'] = train['bki_request_cnt'].apply(bki_req_conv)\n",
    "test['bki_request_cnt'] = test['bki_request_cnt'].apply(bki_req_conv)\n",
    "dataset['bki_request_cnt'] = dataset['bki_request_cnt'].apply(bki_req_conv)\n",
    "\n",
    "dataset['bki_request_cnt'] = np.log(dataset['bki_request_cnt'] + 1)\n",
    "train['bki_request_cnt'] = np.log(train['bki_request_cnt'] + 1)\n",
    "test['bki_request_cnt'] = np.log(test['bki_request_cnt'] + 1)\n",
    "\n",
    "sns.distplot(dataset['bki_request_cnt'], kde = False, rug=False)\n",
    "plt.show()\n",
    "\n",
    "sns.boxplot(dataset['bki_request_cnt'])\n",
    "plt.show()"
   ]
  },
  {
   "cell_type": "markdown",
   "execution_count": null,
   "metadata": {},
   "source": [
    "### 7. Признак 'income'"
   ]
  },
  {
   "cell_type": "code",
   "execution_count": 31,
   "metadata": {},
   "outputs": [
    {
     "data": {
      "image/png": "[encoded data removed]",
      "text/plain": [
       "<Figure size 432x288 with 1 Axes>"
      ]
     },
     "metadata": {
      "needs_background": "light"
     },
     "output_type": "display_data"
    },
    {
     "data": {
      "image/png": "[encoded data removed]",
      "text/plain": [
       "<Figure size 432x288 with 1 Axes>"
      ]
     },
     "metadata": {
      "needs_background": "light"
     },
     "output_type": "display_data"
    }
   ],
   "source": [
    "sns.distplot(dataset['income'], kde = False, rug=False)\n",
    "plt.show()\n",
    "\n",
    "sns.boxplot(dataset['income'])\n",
    "plt.show()"
   ]
  },
  {
   "cell_type": "markdown",
   "execution_count": null,
   "metadata": {},
   "source": [
    "Логарифмируем. ВЫбросов конечно очень много"
   ]
  },
  {
   "cell_type": "code",
   "execution_count": 32,
   "metadata": {},
   "outputs": [],
   "source": [
    "dataset['income'] = np.log(dataset['income'] + 1)\n",
    "train['income'] = np.log(train['income'] + 1)\n",
    "test['income'] = np.log(test['income'] + 1)"
   ]
  },
  {
   "cell_type": "code",
   "execution_count": 33,
   "metadata": {},
   "outputs": [
    {
     "data": {
      "image/png": "[encoded data removed]",
      "text/plain": [
       "<Figure size 432x288 with 1 Axes>"
      ]
     },
     "metadata": {
      "needs_background": "light"
     },
     "output_type": "display_data"
    },
    {
     "data": {
      "image/png": "[encoded data removed]",
      "text/plain": [
       "<Figure size 432x288 with 1 Axes>"
      ]
     },
     "metadata": {
      "needs_background": "light"
     },
     "output_type": "display_data"
    }
   ],
   "source": [
    "sns.distplot(dataset['income'], kde = False, rug=False)\n",
    "plt.show()\n",
    "\n",
    "sns.boxplot(dataset['income'])\n",
    "plt.show()"
   ]
  },
  {
   "cell_type": "markdown",
   "execution_count": null,
   "metadata": {},
   "source": [
    "слишком большие суммы приведем к границам 5% и 95%, чтобы они не портили статистику."
   ]
  },
  {
   "cell_type": "code",
   "execution_count": 34,
   "metadata": {},
   "outputs": [],
   "source": [
    "def outliers_remove(data,low=0,high=100):\n",
    "    if data > high:\n",
    "        return high\n",
    "    elif data < low:\n",
    "        return low\n",
    "    else:\n",
    "        return data\n",
    "    \n",
    "limit_low = dataset['income'].quantile(q=0.05, interpolation='linear')\n",
    "limit_high = dataset['income'].quantile(q=0.95, interpolation='linear')\n",
    "\n",
    "dataset['income'] = dataset['income'].apply(outliers_remove,low = limit_low, high = limit_high)"
   ]
  },
  {
   "cell_type": "code",
   "execution_count": 35,
   "metadata": {},
   "outputs": [
    {
     "data": {
      "image/png": "[encoded data removed]",
      "text/plain": [
       "<Figure size 432x288 with 1 Axes>"
      ]
     },
     "metadata": {
      "needs_background": "light"
     },
     "output_type": "display_data"
    },
    {
     "data": {
      "image/png": "[encoded data removed]",
      "text/plain": [
       "<Figure size 432x288 with 1 Axes>"
      ]
     },
     "metadata": {
      "needs_background": "light"
     },
     "output_type": "display_data"
    }
   ],
   "source": [
    "sns.distplot(dataset['income'], kde = False, rug=False)\n",
    "plt.show()\n",
    "sns.boxplot(dataset['income'])\n",
    "plt.show()"
   ]
  },
  {
   "cell_type": "markdown",
   "execution_count": null,
   "metadata": {},
   "source": [
    "Возможно, можно еще укрупнять, приводя суммы к каким то стандартным значениям. Но не уверен, что есть зависимость между \"круглой суммой\" и процентом возврата."
   ]
  },
  {
   "cell_type": "markdown",
   "execution_count": null,
   "metadata": {},
   "source": [
    "### 8. Признак 'sna'"
   ]
  },
  {
   "cell_type": "code",
   "execution_count": 36,
   "metadata": {},
   "outputs": [
    {
     "data": {
      "image/png": "[encoded data removed]",
      "text/plain": [
       "<Figure size 432x288 with 1 Axes>"
      ]
     },
     "metadata": {
      "needs_background": "light"
     },
     "output_type": "display_data"
    },
    {
     "data": {
      "image/png": "[encoded data removed]",
      "text/plain": [
       "<Figure size 432x288 with 1 Axes>"
      ]
     },
     "metadata": {
      "needs_background": "light"
     },
     "output_type": "display_data"
    }
   ],
   "source": [
    "sns.distplot(dataset['sna'], kde = False, rug=False)\n",
    "plt.show()\n",
    "\n",
    "sns.boxplot(dataset['sna'])\n",
    "plt.show()"
   ]
  },
  {
   "cell_type": "markdown",
   "execution_count": null,
   "metadata": {},
   "source": [
    "Признак \"сна\".. от 1 до 4, странно что нет людей без связей с клиентами банка. Или если ты берешь кредит, ты уже считаешься клиентом?"
   ]
  },
  {
   "cell_type": "code",
   "execution_count": 37,
   "metadata": {},
   "outputs": [
    {
     "data": {
      "text/html": [
       "<div>\n",
       "<style scoped>\n",
       "    .dataframe tbody tr th:only-of-type {\n",
       "        vertical-align: middle;\n",
       "    }\n",
       "\n",
       "    .dataframe tbody tr th {\n",
       "        vertical-align: top;\n",
       "    }\n",
       "\n",
       "    .dataframe thead th {\n",
       "        text-align: right;\n",
       "    }\n",
       "</style>\n",
       "<table border=\"1\" class=\"dataframe\">\n",
       "  <thead>\n",
       "    <tr style=\"text-align: right;\">\n",
       "      <th></th>\n",
       "      <th>client_id</th>\n",
       "      <th>age</th>\n",
       "      <th>decline_app_cnt</th>\n",
       "      <th>good_work</th>\n",
       "      <th>score_bki</th>\n",
       "      <th>bki_request_cnt</th>\n",
       "      <th>region_rating</th>\n",
       "      <th>home_address</th>\n",
       "      <th>work_address</th>\n",
       "      <th>income</th>\n",
       "      <th>first_time</th>\n",
       "      <th>default</th>\n",
       "      <th>days_passed</th>\n",
       "    </tr>\n",
       "    <tr>\n",
       "      <th>sna</th>\n",
       "      <th></th>\n",
       "      <th></th>\n",
       "      <th></th>\n",
       "      <th></th>\n",
       "      <th></th>\n",
       "      <th></th>\n",
       "      <th></th>\n",
       "      <th></th>\n",
       "      <th></th>\n",
       "      <th></th>\n",
       "      <th></th>\n",
       "      <th></th>\n",
       "      <th></th>\n",
       "    </tr>\n",
       "  </thead>\n",
       "  <tbody>\n",
       "    <tr>\n",
       "      <th>1</th>\n",
       "      <td>55361.920763</td>\n",
       "      <td>3.677690</td>\n",
       "      <td>0.215450</td>\n",
       "      <td>0.180313</td>\n",
       "      <td>-1.933130</td>\n",
       "      <td>0.765022</td>\n",
       "      <td>57.498573</td>\n",
       "      <td>1.546648</td>\n",
       "      <td>2.459969</td>\n",
       "      <td>10.401695</td>\n",
       "      <td>3.133782</td>\n",
       "      <td>0.098201</td>\n",
       "      <td>7.757700</td>\n",
       "    </tr>\n",
       "    <tr>\n",
       "      <th>2</th>\n",
       "      <td>54166.102673</td>\n",
       "      <td>3.599344</td>\n",
       "      <td>0.296160</td>\n",
       "      <td>0.146245</td>\n",
       "      <td>-1.858618</td>\n",
       "      <td>0.781343</td>\n",
       "      <td>55.810277</td>\n",
       "      <td>1.537361</td>\n",
       "      <td>2.444758</td>\n",
       "      <td>10.329517</td>\n",
       "      <td>2.481272</td>\n",
       "      <td>0.149821</td>\n",
       "      <td>7.758215</td>\n",
       "    </tr>\n",
       "    <tr>\n",
       "      <th>3</th>\n",
       "      <td>55125.993209</td>\n",
       "      <td>3.578047</td>\n",
       "      <td>0.339316</td>\n",
       "      <td>0.133641</td>\n",
       "      <td>-1.842975</td>\n",
       "      <td>0.763538</td>\n",
       "      <td>55.377153</td>\n",
       "      <td>1.543051</td>\n",
       "      <td>2.470046</td>\n",
       "      <td>10.250999</td>\n",
       "      <td>2.216347</td>\n",
       "      <td>0.157652</td>\n",
       "      <td>7.757799</td>\n",
       "    </tr>\n",
       "    <tr>\n",
       "      <th>4</th>\n",
       "      <td>55119.499106</td>\n",
       "      <td>3.643076</td>\n",
       "      <td>0.319687</td>\n",
       "      <td>0.130649</td>\n",
       "      <td>-1.853830</td>\n",
       "      <td>0.785633</td>\n",
       "      <td>54.915312</td>\n",
       "      <td>1.737595</td>\n",
       "      <td>2.698272</td>\n",
       "      <td>10.169300</td>\n",
       "      <td>1.732318</td>\n",
       "      <td>0.211507</td>\n",
       "      <td>7.757808</td>\n",
       "    </tr>\n",
       "  </tbody>\n",
       "</table>\n",
       "</div>"
      ],
      "text/plain": [
       "        client_id       age  decline_app_cnt  good_work  score_bki  \\\n",
       "sna                                                                  \n",
       "1    55361.920763  3.677690         0.215450   0.180313  -1.933130   \n",
       "2    54166.102673  3.599344         0.296160   0.146245  -1.858618   \n",
       "3    55125.993209  3.578047         0.339316   0.133641  -1.842975   \n",
       "4    55119.499106  3.643076         0.319687   0.130649  -1.853830   \n",
       "\n",
       "     bki_request_cnt  region_rating  home_address  work_address     income  \\\n",
       "sna                                                                          \n",
       "1           0.765022      57.498573      1.546648      2.459969  10.401695   \n",
       "2           0.781343      55.810277      1.537361      2.444758  10.329517   \n",
       "3           0.763538      55.377153      1.543051      2.470046  10.250999   \n",
       "4           0.785633      54.915312      1.737595      2.698272  10.169300   \n",
       "\n",
       "     first_time   default  days_passed  \n",
       "sna                                     \n",
       "1      3.133782  0.098201     7.757700  \n",
       "2      2.481272  0.149821     7.758215  \n",
       "3      2.216347  0.157652     7.757799  \n",
       "4      1.732318  0.211507     7.757808  "
      ]
     },
     "execution_count": 37,
     "metadata": {},
     "output_type": "execute_result"
    }
   ],
   "source": [
    "train.groupby('sna').mean().sort_values(by = 'default')"
   ]
  },
  {
   "cell_type": "markdown",
   "execution_count": null,
   "metadata": {},
   "source": [
    "Ожидаемо, что чем больше связей, тем надежнее заемщик. Оставляем пока так"
   ]
  },
  {
   "cell_type": "markdown",
   "execution_count": null,
   "metadata": {},
   "source": [
    "### 9. Признак 'first_time'"
   ]
  },
  {
   "cell_type": "code",
   "execution_count": 38,
   "metadata": {},
   "outputs": [
    {
     "data": {
      "image/png": "[encoded data removed]",
      "text/plain": [
       "<Figure size 432x288 with 1 Axes>"
      ]
     },
     "metadata": {
      "needs_background": "light"
     },
     "output_type": "display_data"
    },
    {
     "data": {
      "image/png": "[encoded data removed]",
      "text/plain": [
       "<Figure size 432x288 with 1 Axes>"
      ]
     },
     "metadata": {
      "needs_background": "light"
     },
     "output_type": "display_data"
    }
   ],
   "source": [
    "sns.distplot(dataset['first_time'], kde = False, rug=False)\n",
    "plt.show()\n",
    "\n",
    "sns.boxplot(dataset['first_time'])\n",
    "plt.show()"
   ]
  },
  {
   "cell_type": "code",
   "execution_count": 39,
   "metadata": {},
   "outputs": [
    {
     "data": {
      "text/html": [
       "<div>\n",
       "<style scoped>\n",
       "    .dataframe tbody tr th:only-of-type {\n",
       "        vertical-align: middle;\n",
       "    }\n",
       "\n",
       "    .dataframe tbody tr th {\n",
       "        vertical-align: top;\n",
       "    }\n",
       "\n",
       "    .dataframe thead th {\n",
       "        text-align: right;\n",
       "    }\n",
       "</style>\n",
       "<table border=\"1\" class=\"dataframe\">\n",
       "  <thead>\n",
       "    <tr style=\"text-align: right;\">\n",
       "      <th></th>\n",
       "      <th>client_id</th>\n",
       "      <th>age</th>\n",
       "      <th>decline_app_cnt</th>\n",
       "      <th>good_work</th>\n",
       "      <th>score_bki</th>\n",
       "      <th>bki_request_cnt</th>\n",
       "      <th>region_rating</th>\n",
       "      <th>home_address</th>\n",
       "      <th>work_address</th>\n",
       "      <th>income</th>\n",
       "      <th>sna</th>\n",
       "      <th>default</th>\n",
       "      <th>days_passed</th>\n",
       "    </tr>\n",
       "    <tr>\n",
       "      <th>first_time</th>\n",
       "      <th></th>\n",
       "      <th></th>\n",
       "      <th></th>\n",
       "      <th></th>\n",
       "      <th></th>\n",
       "      <th></th>\n",
       "      <th></th>\n",
       "      <th></th>\n",
       "      <th></th>\n",
       "      <th></th>\n",
       "      <th></th>\n",
       "      <th></th>\n",
       "      <th></th>\n",
       "    </tr>\n",
       "  </thead>\n",
       "  <tbody>\n",
       "    <tr>\n",
       "      <th>4</th>\n",
       "      <td>57142.530821</td>\n",
       "      <td>3.708564</td>\n",
       "      <td>0.180765</td>\n",
       "      <td>0.188344</td>\n",
       "      <td>-1.968830</td>\n",
       "      <td>0.765983</td>\n",
       "      <td>58.957144</td>\n",
       "      <td>1.577734</td>\n",
       "      <td>2.489726</td>\n",
       "      <td>10.474749</td>\n",
       "      <td>1.176015</td>\n",
       "      <td>0.082030</td>\n",
       "      <td>7.756940</td>\n",
       "    </tr>\n",
       "    <tr>\n",
       "      <th>3</th>\n",
       "      <td>54257.716717</td>\n",
       "      <td>3.649778</td>\n",
       "      <td>0.244761</td>\n",
       "      <td>0.171141</td>\n",
       "      <td>-1.897265</td>\n",
       "      <td>0.777161</td>\n",
       "      <td>56.112942</td>\n",
       "      <td>1.539786</td>\n",
       "      <td>2.452280</td>\n",
       "      <td>10.360688</td>\n",
       "      <td>1.506863</td>\n",
       "      <td>0.120269</td>\n",
       "      <td>7.758172</td>\n",
       "    </tr>\n",
       "    <tr>\n",
       "      <th>2</th>\n",
       "      <td>53696.834630</td>\n",
       "      <td>3.601383</td>\n",
       "      <td>0.316131</td>\n",
       "      <td>0.150588</td>\n",
       "      <td>-1.855495</td>\n",
       "      <td>0.764932</td>\n",
       "      <td>56.658022</td>\n",
       "      <td>1.559042</td>\n",
       "      <td>2.485131</td>\n",
       "      <td>10.315861</td>\n",
       "      <td>1.864799</td>\n",
       "      <td>0.155429</td>\n",
       "      <td>7.758419</td>\n",
       "    </tr>\n",
       "    <tr>\n",
       "      <th>1</th>\n",
       "      <td>55679.154098</td>\n",
       "      <td>3.639011</td>\n",
       "      <td>0.310401</td>\n",
       "      <td>0.126563</td>\n",
       "      <td>-1.872256</td>\n",
       "      <td>0.766092</td>\n",
       "      <td>54.938312</td>\n",
       "      <td>1.678895</td>\n",
       "      <td>2.629218</td>\n",
       "      <td>10.139182</td>\n",
       "      <td>3.040608</td>\n",
       "      <td>0.186126</td>\n",
       "      <td>7.757561</td>\n",
       "    </tr>\n",
       "  </tbody>\n",
       "</table>\n",
       "</div>"
      ],
      "text/plain": [
       "               client_id       age  decline_app_cnt  good_work  score_bki  \\\n",
       "first_time                                                                  \n",
       "4           57142.530821  3.708564         0.180765   0.188344  -1.968830   \n",
       "3           54257.716717  3.649778         0.244761   0.171141  -1.897265   \n",
       "2           53696.834630  3.601383         0.316131   0.150588  -1.855495   \n",
       "1           55679.154098  3.639011         0.310401   0.126563  -1.872256   \n",
       "\n",
       "            bki_request_cnt  region_rating  home_address  work_address  \\\n",
       "first_time                                                               \n",
       "4                  0.765983      58.957144      1.577734      2.489726   \n",
       "3                  0.777161      56.112942      1.539786      2.452280   \n",
       "2                  0.764932      56.658022      1.559042      2.485131   \n",
       "1                  0.766092      54.938312      1.678895      2.629218   \n",
       "\n",
       "               income       sna   default  days_passed  \n",
       "first_time                                              \n",
       "4           10.474749  1.176015  0.082030     7.756940  \n",
       "3           10.360688  1.506863  0.120269     7.758172  \n",
       "2           10.315861  1.864799  0.155429     7.758419  \n",
       "1           10.139182  3.040608  0.186126     7.757561  "
      ]
     },
     "execution_count": 39,
     "metadata": {},
     "output_type": "execute_result"
    }
   ],
   "source": [
    "train.groupby('first_time').mean().sort_values(by = 'default')"
   ]
  },
  {
   "cell_type": "markdown",
   "execution_count": null,
   "metadata": {},
   "source": [
    "Аналогично sna: 4 значения, но вероятность дефолта клиента, берущего кредит в 4 раз сильно меньше остальных. Справедливо"
   ]
  },
  {
   "cell_type": "markdown",
   "execution_count": null,
   "metadata": {},
   "source": [
    "### 10. Признак 'region_rating'"
   ]
  },
  {
   "cell_type": "code",
   "execution_count": 40,
   "metadata": {},
   "outputs": [
    {
     "data": {
      "image/png": "[encoded data removed]",
      "text/plain": [
       "<Figure size 432x288 with 1 Axes>"
      ]
     },
     "metadata": {
      "needs_background": "light"
     },
     "output_type": "display_data"
    },
    {
     "data": {
      "image/png": "[encoded data removed]",
      "text/plain": [
       "<Figure size 432x288 with 1 Axes>"
      ]
     },
     "metadata": {
      "needs_background": "light"
     },
     "output_type": "display_data"
    }
   ],
   "source": [
    "sns.distplot(dataset['region_rating'], kde = False, rug=False)\n",
    "plt.show()\n",
    "\n",
    "sns.boxplot(dataset['region_rating'])\n",
    "plt.show()"
   ]
  },
  {
   "cell_type": "code",
   "execution_count": 41,
   "metadata": {},
   "outputs": [
    {
     "data": {
      "text/html": [
       "<div>\n",
       "<style scoped>\n",
       "    .dataframe tbody tr th:only-of-type {\n",
       "        vertical-align: middle;\n",
       "    }\n",
       "\n",
       "    .dataframe tbody tr th {\n",
       "        vertical-align: top;\n",
       "    }\n",
       "\n",
       "    .dataframe thead th {\n",
       "        text-align: right;\n",
       "    }\n",
       "</style>\n",
       "<table border=\"1\" class=\"dataframe\">\n",
       "  <thead>\n",
       "    <tr style=\"text-align: right;\">\n",
       "      <th></th>\n",
       "      <th>client_id</th>\n",
       "      <th>age</th>\n",
       "      <th>decline_app_cnt</th>\n",
       "      <th>good_work</th>\n",
       "      <th>score_bki</th>\n",
       "      <th>bki_request_cnt</th>\n",
       "      <th>home_address</th>\n",
       "      <th>work_address</th>\n",
       "      <th>income</th>\n",
       "      <th>sna</th>\n",
       "      <th>first_time</th>\n",
       "      <th>default</th>\n",
       "      <th>days_passed</th>\n",
       "    </tr>\n",
       "    <tr>\n",
       "      <th>region_rating</th>\n",
       "      <th></th>\n",
       "      <th></th>\n",
       "      <th></th>\n",
       "      <th></th>\n",
       "      <th></th>\n",
       "      <th></th>\n",
       "      <th></th>\n",
       "      <th></th>\n",
       "      <th></th>\n",
       "      <th></th>\n",
       "      <th></th>\n",
       "      <th></th>\n",
       "      <th></th>\n",
       "    </tr>\n",
       "  </thead>\n",
       "  <tbody>\n",
       "    <tr>\n",
       "      <th>80</th>\n",
       "      <td>55753.090243</td>\n",
       "      <td>3.614327</td>\n",
       "      <td>0.192345</td>\n",
       "      <td>0.231232</td>\n",
       "      <td>-1.901916</td>\n",
       "      <td>0.720545</td>\n",
       "      <td>1.951434</td>\n",
       "      <td>2.942890</td>\n",
       "      <td>10.786018</td>\n",
       "      <td>1.484175</td>\n",
       "      <td>3.027553</td>\n",
       "      <td>0.073154</td>\n",
       "      <td>7.757556</td>\n",
       "    </tr>\n",
       "    <tr>\n",
       "      <th>70</th>\n",
       "      <td>54806.179384</td>\n",
       "      <td>3.609831</td>\n",
       "      <td>0.237619</td>\n",
       "      <td>0.190192</td>\n",
       "      <td>-1.857071</td>\n",
       "      <td>0.774984</td>\n",
       "      <td>1.450073</td>\n",
       "      <td>2.557187</td>\n",
       "      <td>10.700322</td>\n",
       "      <td>1.600903</td>\n",
       "      <td>2.714793</td>\n",
       "      <td>0.092434</td>\n",
       "      <td>7.757952</td>\n",
       "    </tr>\n",
       "    <tr>\n",
       "      <th>60</th>\n",
       "      <td>55136.856983</td>\n",
       "      <td>3.651395</td>\n",
       "      <td>0.262271</td>\n",
       "      <td>0.157201</td>\n",
       "      <td>-1.914358</td>\n",
       "      <td>0.784860</td>\n",
       "      <td>1.569705</td>\n",
       "      <td>2.461586</td>\n",
       "      <td>10.279196</td>\n",
       "      <td>1.849580</td>\n",
       "      <td>2.728523</td>\n",
       "      <td>0.128834</td>\n",
       "      <td>7.757802</td>\n",
       "    </tr>\n",
       "    <tr>\n",
       "      <th>50</th>\n",
       "      <td>55258.007521</td>\n",
       "      <td>3.669779</td>\n",
       "      <td>0.255641</td>\n",
       "      <td>0.142971</td>\n",
       "      <td>-1.915630</td>\n",
       "      <td>0.773668</td>\n",
       "      <td>1.478400</td>\n",
       "      <td>2.369291</td>\n",
       "      <td>10.206975</td>\n",
       "      <td>1.798895</td>\n",
       "      <td>2.714748</td>\n",
       "      <td>0.136141</td>\n",
       "      <td>7.757733</td>\n",
       "    </tr>\n",
       "    <tr>\n",
       "      <th>40</th>\n",
       "      <td>54467.229567</td>\n",
       "      <td>3.687635</td>\n",
       "      <td>0.280868</td>\n",
       "      <td>0.146587</td>\n",
       "      <td>-1.893145</td>\n",
       "      <td>0.787678</td>\n",
       "      <td>1.505363</td>\n",
       "      <td>2.371331</td>\n",
       "      <td>10.162392</td>\n",
       "      <td>1.726698</td>\n",
       "      <td>2.715806</td>\n",
       "      <td>0.169702</td>\n",
       "      <td>7.758078</td>\n",
       "    </tr>\n",
       "    <tr>\n",
       "      <th>30</th>\n",
       "      <td>53487.776667</td>\n",
       "      <td>3.710223</td>\n",
       "      <td>0.353333</td>\n",
       "      <td>0.190000</td>\n",
       "      <td>-1.912680</td>\n",
       "      <td>0.791042</td>\n",
       "      <td>1.523333</td>\n",
       "      <td>2.336667</td>\n",
       "      <td>10.042726</td>\n",
       "      <td>1.916667</td>\n",
       "      <td>2.516667</td>\n",
       "      <td>0.190000</td>\n",
       "      <td>7.758519</td>\n",
       "    </tr>\n",
       "    <tr>\n",
       "      <th>20</th>\n",
       "      <td>56486.252427</td>\n",
       "      <td>3.718509</td>\n",
       "      <td>0.378641</td>\n",
       "      <td>0.271845</td>\n",
       "      <td>-1.956237</td>\n",
       "      <td>0.865292</td>\n",
       "      <td>2.019417</td>\n",
       "      <td>3.000000</td>\n",
       "      <td>10.093782</td>\n",
       "      <td>1.878641</td>\n",
       "      <td>2.616505</td>\n",
       "      <td>0.213592</td>\n",
       "      <td>7.757180</td>\n",
       "    </tr>\n",
       "  </tbody>\n",
       "</table>\n",
       "</div>"
      ],
      "text/plain": [
       "                  client_id       age  decline_app_cnt  good_work  score_bki  \\\n",
       "region_rating                                                                  \n",
       "80             55753.090243  3.614327         0.192345   0.231232  -1.901916   \n",
       "70             54806.179384  3.609831         0.237619   0.190192  -1.857071   \n",
       "60             55136.856983  3.651395         0.262271   0.157201  -1.914358   \n",
       "50             55258.007521  3.669779         0.255641   0.142971  -1.915630   \n",
       "40             54467.229567  3.687635         0.280868   0.146587  -1.893145   \n",
       "30             53487.776667  3.710223         0.353333   0.190000  -1.912680   \n",
       "20             56486.252427  3.718509         0.378641   0.271845  -1.956237   \n",
       "\n",
       "               bki_request_cnt  home_address  work_address     income  \\\n",
       "region_rating                                                           \n",
       "80                    0.720545      1.951434      2.942890  10.786018   \n",
       "70                    0.774984      1.450073      2.557187  10.700322   \n",
       "60                    0.784860      1.569705      2.461586  10.279196   \n",
       "50                    0.773668      1.478400      2.369291  10.206975   \n",
       "40                    0.787678      1.505363      2.371331  10.162392   \n",
       "30                    0.791042      1.523333      2.336667  10.042726   \n",
       "20                    0.865292      2.019417      3.000000  10.093782   \n",
       "\n",
       "                    sna  first_time   default  days_passed  \n",
       "region_rating                                               \n",
       "80             1.484175    3.027553  0.073154     7.757556  \n",
       "70             1.600903    2.714793  0.092434     7.757952  \n",
       "60             1.849580    2.728523  0.128834     7.757802  \n",
       "50             1.798895    2.714748  0.136141     7.757733  \n",
       "40             1.726698    2.715806  0.169702     7.758078  \n",
       "30             1.916667    2.516667  0.190000     7.758519  \n",
       "20             1.878641    2.616505  0.213592     7.757180  "
      ]
     },
     "execution_count": 41,
     "metadata": {},
     "output_type": "execute_result"
    }
   ],
   "source": [
    "train.groupby('region_rating').mean().sort_values(by = 'default')"
   ]
  },
  {
   "cell_type": "markdown",
   "execution_count": null,
   "metadata": {},
   "source": [
    "Такое чуство, что рейтинг региона составляли на основании показателя дефолта, уж больно прямая зависимость. Распределение нормальное, оставляем"
   ]
  },
  {
   "cell_type": "markdown",
   "execution_count": null,
   "metadata": {},
   "source": [
    "### 11. Группировка признаков"
   ]
  },
  {
   "cell_type": "markdown",
   "execution_count": null,
   "metadata": {},
   "source": [
    "Полученные признаки сгруппируем в три категории по типу их обработки (категориальные, бинарные и числовые) для дальнейшего удобного анализа."
   ]
  },
  {
   "cell_type": "code",
   "execution_count": 42,
   "metadata": {},
   "outputs": [],
   "source": [
    "bin_cols = ['sex', 'car', 'car_type', 'good_work', 'foreign_passport']\n",
    "cat_cols = ['education', 'home_address', 'work_address','sna', 'first_time', 'bki_request_cnt','decline_app_cnt']\n",
    "num_cols = ['days_passed', 'age', 'score_bki', 'region_rating', 'income']"
   ]
  },
  {
   "cell_type": "markdown",
   "execution_count": null,
   "metadata": {},
   "source": [
    "### 12. Матрица корреляции"
   ]
  },
  {
   "cell_type": "code",
   "execution_count": 43,
   "metadata": {},
   "outputs": [
    {
     "data": {
      "text/plain": [
       "<matplotlib.axes._subplots.AxesSubplot at 0x7f5c6e0eb590>"
      ]
     },
     "execution_count": 43,
     "metadata": {},
     "output_type": "execute_result"
    },
    {
     "data": {
      "image/png": "[encoded data removed]",
      "text/plain": [
       "<Figure size 1152x720 with 2 Axes>"
      ]
     },
     "metadata": {
      "needs_background": "light"
     },
     "output_type": "display_data"
    }
   ],
   "source": [
    "plt.figure(figsize=(16,10))\n",
    "sns.heatmap(train[num_cols].corr().abs(), vmin=0, vmax=1, annot=True)"
   ]
  },
  {
   "cell_type": "markdown",
   "execution_count": null,
   "metadata": {},
   "source": [
    "Не хотелось бы повторяться, но \"Высокой корреляции между признаками не наблюдается\", максимум 0.31"
   ]
  },
  {
   "cell_type": "markdown",
   "execution_count": null,
   "metadata": {},
   "source": [
    "### 13. Значимость непрерывных переменных"
   ]
  },
  {
   "cell_type": "code",
   "execution_count": 44,
   "metadata": {},
   "outputs": [
    {
     "data": {
      "text/plain": [
       "Text(0.5, 0, 'F-value')"
      ]
     },
     "execution_count": 44,
     "metadata": {},
     "output_type": "execute_result"
    },
    {
     "data": {
      "image/png": "[encoded data removed]",
      "text/plain": [
       "<Figure size 432x288 with 1 Axes>"
      ]
     },
     "metadata": {
      "needs_background": "light"
     },
     "output_type": "display_data"
    }
   ],
   "source": [
    "imp_num = Series(f_classif(train[num_cols], train['default'])[0], index = num_cols)\n",
    "imp_num.sort_values(inplace = True)\n",
    "imp_num.plot(kind = 'barh')\n",
    "plt.title('Significance of num variables')\n",
    "plt.xlabel('F-value')"
   ]
  },
  {
   "cell_type": "markdown",
   "execution_count": null,
   "metadata": {},
   "source": [
    "Такое чувство, что банк выдает кредиты в основном на базе уже добытой ранее информации: оценки БКИ и кол-ва отказов (но отказы мы перевели в категории).\n",
    "Странно, что возраст в этом распределении на последнем месте, ведь с возрастом люди должны становиться мудрее.."
   ]
  },
  {
   "cell_type": "markdown",
   "execution_count": null,
   "metadata": {},
   "source": [
    "## Работа с бинарными и категориальными переменными"
   ]
  },
  {
   "cell_type": "markdown",
   "execution_count": null,
   "metadata": {},
   "source": [
    "### 14. Преобразование бинарных переменных"
   ]
  },
  {
   "cell_type": "markdown",
   "execution_count": null,
   "metadata": {},
   "source": [
    "Преобразуем бинарные переменные при помощи класса LabelEncoder"
   ]
  },
  {
   "cell_type": "code",
   "execution_count": 45,
   "metadata": {},
   "outputs": [
    {
     "data": {
      "text/html": [
       "<div>\n",
       "<style scoped>\n",
       "    .dataframe tbody tr th:only-of-type {\n",
       "        vertical-align: middle;\n",
       "    }\n",
       "\n",
       "    .dataframe tbody tr th {\n",
       "        vertical-align: top;\n",
       "    }\n",
       "\n",
       "    .dataframe thead th {\n",
       "        text-align: right;\n",
       "    }\n",
       "</style>\n",
       "<table border=\"1\" class=\"dataframe\">\n",
       "  <thead>\n",
       "    <tr style=\"text-align: right;\">\n",
       "      <th></th>\n",
       "      <th>client_id</th>\n",
       "      <th>app_date</th>\n",
       "      <th>education</th>\n",
       "      <th>sex</th>\n",
       "      <th>age</th>\n",
       "      <th>car</th>\n",
       "      <th>car_type</th>\n",
       "      <th>decline_app_cnt</th>\n",
       "      <th>good_work</th>\n",
       "      <th>score_bki</th>\n",
       "      <th>bki_request_cnt</th>\n",
       "      <th>region_rating</th>\n",
       "      <th>home_address</th>\n",
       "      <th>work_address</th>\n",
       "      <th>income</th>\n",
       "      <th>sna</th>\n",
       "      <th>first_time</th>\n",
       "      <th>foreign_passport</th>\n",
       "      <th>default</th>\n",
       "      <th>days_passed</th>\n",
       "    </tr>\n",
       "  </thead>\n",
       "  <tbody>\n",
       "    <tr>\n",
       "      <th>0</th>\n",
       "      <td>25905</td>\n",
       "      <td>2014-02-01</td>\n",
       "      <td>SCH</td>\n",
       "      <td>1</td>\n",
       "      <td>4.143135</td>\n",
       "      <td>1</td>\n",
       "      <td>1</td>\n",
       "      <td>0</td>\n",
       "      <td>0</td>\n",
       "      <td>-2.008753</td>\n",
       "      <td>0.693147</td>\n",
       "      <td>50</td>\n",
       "      <td>1</td>\n",
       "      <td>2</td>\n",
       "      <td>9.798183</td>\n",
       "      <td>4</td>\n",
       "      <td>1</td>\n",
       "      <td>0</td>\n",
       "      <td>0</td>\n",
       "      <td>7.770645</td>\n",
       "    </tr>\n",
       "    <tr>\n",
       "      <th>1</th>\n",
       "      <td>63161</td>\n",
       "      <td>2014-03-12</td>\n",
       "      <td>SCH</td>\n",
       "      <td>0</td>\n",
       "      <td>4.094345</td>\n",
       "      <td>0</td>\n",
       "      <td>0</td>\n",
       "      <td>0</td>\n",
       "      <td>0</td>\n",
       "      <td>-1.532276</td>\n",
       "      <td>1.386294</td>\n",
       "      <td>50</td>\n",
       "      <td>2</td>\n",
       "      <td>3</td>\n",
       "      <td>9.852247</td>\n",
       "      <td>4</td>\n",
       "      <td>1</td>\n",
       "      <td>0</td>\n",
       "      <td>0</td>\n",
       "      <td>7.754053</td>\n",
       "    </tr>\n",
       "    <tr>\n",
       "      <th>2</th>\n",
       "      <td>25887</td>\n",
       "      <td>2014-02-01</td>\n",
       "      <td>SCH</td>\n",
       "      <td>1</td>\n",
       "      <td>3.258097</td>\n",
       "      <td>1</td>\n",
       "      <td>0</td>\n",
       "      <td>2</td>\n",
       "      <td>0</td>\n",
       "      <td>-1.408142</td>\n",
       "      <td>0.693147</td>\n",
       "      <td>80</td>\n",
       "      <td>1</td>\n",
       "      <td>2</td>\n",
       "      <td>10.308986</td>\n",
       "      <td>1</td>\n",
       "      <td>4</td>\n",
       "      <td>1</td>\n",
       "      <td>0</td>\n",
       "      <td>7.770645</td>\n",
       "    </tr>\n",
       "    <tr>\n",
       "      <th>3</th>\n",
       "      <td>16222</td>\n",
       "      <td>2014-01-23</td>\n",
       "      <td>SCH</td>\n",
       "      <td>0</td>\n",
       "      <td>3.988984</td>\n",
       "      <td>0</td>\n",
       "      <td>0</td>\n",
       "      <td>0</td>\n",
       "      <td>0</td>\n",
       "      <td>-2.057471</td>\n",
       "      <td>1.098612</td>\n",
       "      <td>50</td>\n",
       "      <td>2</td>\n",
       "      <td>3</td>\n",
       "      <td>9.210440</td>\n",
       "      <td>1</td>\n",
       "      <td>3</td>\n",
       "      <td>0</td>\n",
       "      <td>0</td>\n",
       "      <td>7.774436</td>\n",
       "    </tr>\n",
       "    <tr>\n",
       "      <th>4</th>\n",
       "      <td>101655</td>\n",
       "      <td>2014-04-18</td>\n",
       "      <td>GRD</td>\n",
       "      <td>1</td>\n",
       "      <td>3.891820</td>\n",
       "      <td>0</td>\n",
       "      <td>0</td>\n",
       "      <td>0</td>\n",
       "      <td>1</td>\n",
       "      <td>-1.244723</td>\n",
       "      <td>0.693147</td>\n",
       "      <td>60</td>\n",
       "      <td>2</td>\n",
       "      <td>3</td>\n",
       "      <td>10.308986</td>\n",
       "      <td>1</td>\n",
       "      <td>4</td>\n",
       "      <td>1</td>\n",
       "      <td>0</td>\n",
       "      <td>7.738052</td>\n",
       "    </tr>\n",
       "  </tbody>\n",
       "</table>\n",
       "</div>"
      ],
      "text/plain": [
       "   client_id   app_date education  sex       age  car  car_type  \\\n",
       "0      25905 2014-02-01       SCH    1  4.143135    1         1   \n",
       "1      63161 2014-03-12       SCH    0  4.094345    0         0   \n",
       "2      25887 2014-02-01       SCH    1  3.258097    1         0   \n",
       "3      16222 2014-01-23       SCH    0  3.988984    0         0   \n",
       "4     101655 2014-04-18       GRD    1  3.891820    0         0   \n",
       "\n",
       "   decline_app_cnt  good_work  score_bki  bki_request_cnt  region_rating  \\\n",
       "0                0          0  -2.008753         0.693147             50   \n",
       "1                0          0  -1.532276         1.386294             50   \n",
       "2                2          0  -1.408142         0.693147             80   \n",
       "3                0          0  -2.057471         1.098612             50   \n",
       "4                0          1  -1.244723         0.693147             60   \n",
       "\n",
       "   home_address  work_address     income  sna  first_time  foreign_passport  \\\n",
       "0             1             2   9.798183    4           1                 0   \n",
       "1             2             3   9.852247    4           1                 0   \n",
       "2             1             2  10.308986    1           4                 1   \n",
       "3             2             3   9.210440    1           3                 0   \n",
       "4             2             3  10.308986    1           4                 1   \n",
       "\n",
       "   default  days_passed  \n",
       "0        0     7.770645  \n",
       "1        0     7.754053  \n",
       "2        0     7.770645  \n",
       "3        0     7.774436  \n",
       "4        0     7.738052  "
      ]
     },
     "metadata": {},
     "output_type": "display_data"
    }
   ],
   "source": [
    "label_encoder = LabelEncoder()\n",
    "\n",
    "for column in bin_cols:\n",
    "    train[column] = label_encoder.fit_transform(train[column])\n",
    "    test[column] = label_encoder.fit_transform(test[column])\n",
    "\n",
    "    \n",
    "# убедимся в преобразовании    \n",
    "display(train.head())"
   ]
  },
  {
   "cell_type": "markdown",
   "execution_count": null,
   "metadata": {},
   "source": [
    "### 15. Значимость бинарных признаков"
   ]
  },
  {
   "cell_type": "code",
   "execution_count": 46,
   "metadata": {},
   "outputs": [
    {
     "data": {
      "text/plain": [
       "Text(0.5, 1.0, 'Significance of bin variables')"
      ]
     },
     "execution_count": 46,
     "metadata": {},
     "output_type": "execute_result"
    },
    {
     "data": {
      "image/png": "[encoded data removed]",
      "text/plain": [
       "<Figure size 432x288 with 1 Axes>"
      ]
     },
     "metadata": {
      "needs_background": "light"
     },
     "output_type": "display_data"
    }
   ],
   "source": [
    "imp_bin = Series(mutual_info_classif(train[bin_cols], train['default'],\n",
    "                                     discrete_features =True), index = bin_cols)\n",
    "imp_bin.sort_values(inplace = True)\n",
    "imp_bin.plot(kind = 'barh')\n",
    "plt.title('Significance of bin variables')"
   ]
  },
  {
   "cell_type": "markdown",
   "execution_count": null,
   "metadata": {},
   "source": [
    "Странно, что наличие загранпаспорта так много значит. Но в целом все достаточно толерантно)"
   ]
  },
  {
   "cell_type": "markdown",
   "execution_count": null,
   "metadata": {},
   "source": [
    "### 16. Преобразование категориальных переменных"
   ]
  },
  {
   "cell_type": "markdown",
   "execution_count": null,
   "metadata": {},
   "source": [
    "Преобразуем категориальные переменные при помощи OneHotEncoder"
   ]
  },
  {
   "cell_type": "code",
   "execution_count": 47,
   "metadata": {},
   "outputs": [
    {
     "name": "stdout",
     "output_type": "stream",
     "text": [
      "(73799, 28)\n",
      "(36349, 28)\n"
     ]
    }
   ],
   "source": [
    "x_cat = OneHotEncoder(sparse = False).fit_transform(train[cat_cols].values)\n",
    "y_cat = OneHotEncoder(sparse = False).fit_transform(test[cat_cols].values)\n",
    "\n",
    "print(x_cat.shape)\n",
    "print(y_cat.shape)"
   ]
  },
  {
   "cell_type": "markdown",
   "execution_count": null,
   "metadata": {},
   "source": [
    "Разбиваем данные при помощи get_dummies"
   ]
  },
  {
   "cell_type": "code",
   "execution_count": 48,
   "metadata": {},
   "outputs": [
    {
     "data": {
      "text/html": [
       "<div>\n",
       "<style scoped>\n",
       "    .dataframe tbody tr th:only-of-type {\n",
       "        vertical-align: middle;\n",
       "    }\n",
       "\n",
       "    .dataframe tbody tr th {\n",
       "        vertical-align: top;\n",
       "    }\n",
       "\n",
       "    .dataframe thead th {\n",
       "        text-align: right;\n",
       "    }\n",
       "</style>\n",
       "<table border=\"1\" class=\"dataframe\">\n",
       "  <thead>\n",
       "    <tr style=\"text-align: right;\">\n",
       "      <th></th>\n",
       "      <th>ACD</th>\n",
       "      <th>GRD</th>\n",
       "      <th>PGR</th>\n",
       "      <th>SCH</th>\n",
       "      <th>UGR</th>\n",
       "    </tr>\n",
       "  </thead>\n",
       "  <tbody>\n",
       "    <tr>\n",
       "      <th>0</th>\n",
       "      <td>0</td>\n",
       "      <td>0</td>\n",
       "      <td>0</td>\n",
       "      <td>1</td>\n",
       "      <td>0</td>\n",
       "    </tr>\n",
       "    <tr>\n",
       "      <th>1</th>\n",
       "      <td>0</td>\n",
       "      <td>0</td>\n",
       "      <td>0</td>\n",
       "      <td>1</td>\n",
       "      <td>0</td>\n",
       "    </tr>\n",
       "    <tr>\n",
       "      <th>2</th>\n",
       "      <td>0</td>\n",
       "      <td>0</td>\n",
       "      <td>0</td>\n",
       "      <td>1</td>\n",
       "      <td>0</td>\n",
       "    </tr>\n",
       "    <tr>\n",
       "      <th>3</th>\n",
       "      <td>0</td>\n",
       "      <td>0</td>\n",
       "      <td>0</td>\n",
       "      <td>1</td>\n",
       "      <td>0</td>\n",
       "    </tr>\n",
       "    <tr>\n",
       "      <th>4</th>\n",
       "      <td>0</td>\n",
       "      <td>1</td>\n",
       "      <td>0</td>\n",
       "      <td>0</td>\n",
       "      <td>0</td>\n",
       "    </tr>\n",
       "  </tbody>\n",
       "</table>\n",
       "</div>"
      ],
      "text/plain": [
       "   ACD  GRD  PGR  SCH  UGR\n",
       "0    0    0    0    1    0\n",
       "1    0    0    0    1    0\n",
       "2    0    0    0    1    0\n",
       "3    0    0    0    1    0\n",
       "4    0    1    0    0    0"
      ]
     },
     "execution_count": 48,
     "metadata": {},
     "output_type": "execute_result"
    }
   ],
   "source": [
    "education_dummy = pd.get_dummies(train['education'])\n",
    "education_dummy.head()"
   ]
  },
  {
   "cell_type": "code",
   "execution_count": 49,
   "metadata": {},
   "outputs": [],
   "source": [
    "#weekday_dummy = pd.get_dummies(train['weekday'])\n",
    "#weekday_dummy.head()"
   ]
  },
  {
   "cell_type": "markdown",
   "execution_count": null,
   "metadata": {},
   "source": [
    "### 17. Значимость категориальных переменных"
   ]
  },
  {
   "cell_type": "code",
   "execution_count": 50,
   "metadata": {},
   "outputs": [
    {
     "data": {
      "text/plain": [
       "Text(0.5, 1.0, 'Significance of cat variables')"
      ]
     },
     "execution_count": 50,
     "metadata": {},
     "output_type": "execute_result"
    },
    {
     "data": {
      "image/png": "[encoded data removed]",
      "text/plain": [
       "<Figure size 432x288 with 1 Axes>"
      ]
     },
     "metadata": {
      "needs_background": "light"
     },
     "output_type": "display_data"
    }
   ],
   "source": [
    "# Значимость категориальных признаков\n",
    "new_cat_cols = ['home_address', 'work_address', 'sna', 'first_time', 'bki_request_cnt','decline_app_cnt']\n",
    "\n",
    "imp_cat = pd.Series(mutual_info_classif(pd.concat([train[new_cat_cols], education_dummy], axis=1),\n",
    "                                        train['default'], discrete_features =True),\n",
    "                    index = pd.concat([train[new_cat_cols], education_dummy], axis=1).columns)\n",
    "imp_cat.sort_values(inplace = True)\n",
    "imp_cat.plot(kind = 'barh')\n",
    "plt.title('Significance of cat variables')"
   ]
  },
  {
   "cell_type": "markdown",
   "execution_count": null,
   "metadata": {},
   "source": [
    "Признак UGR вообще не участвует во всеобщем веселье, зато SNA, first_time и счетчик отказов опять на первых местах, т.е. опять в первую очередь важна кредитная история.\n",
    "Удивительно, что образование стоит ниже места работы и жительства, наверное это связано с кредитоспособностью - не обязательно получать диплом, чтобы жить в престижном месте и работать на хорошей работе.\n",
    "Дни недели вообще значения не имеют. Нафик."
   ]
  },
  {
   "cell_type": "markdown",
   "execution_count": null,
   "metadata": {},
   "source": [
    "## Подготовка данных к машинному обучению"
   ]
  },
  {
   "cell_type": "code",
   "execution_count": 51,
   "metadata": {},
   "outputs": [],
   "source": [
    "from sklearn.preprocessing import PolynomialFeatures\n",
    "\n",
    "poly = PolynomialFeatures(2)\n",
    "\n",
    "x_tr = poly.fit_transform(train[num_cols].values)\n",
    "y_test = poly.fit_transform(test[num_cols].values)"
   ]
  },
  {
   "cell_type": "markdown",
   "execution_count": null,
   "metadata": {},
   "source": [
    "Стандартизируем числовые переменные"
   ]
  },
  {
   "cell_type": "code",
   "execution_count": 52,
   "metadata": {},
   "outputs": [],
   "source": [
    "# Scaling num variables\n",
    "\n",
    "x_num = StandardScaler().fit_transform(x_tr)\n",
    "y_num = StandardScaler().fit_transform(y_test)"
   ]
  },
  {
   "cell_type": "markdown",
   "execution_count": null,
   "metadata": {},
   "source": [
    "И объединим стандартизованные числовые, бинарные и закодированные категориальные переменные в одно признаковое пространство, разделив при этом признаки и целевую переменную."
   ]
  },
  {
   "cell_type": "code",
   "execution_count": 53,
   "metadata": {},
   "outputs": [],
   "source": [
    "# Merge\n",
    "\n",
    "X = np.hstack([x_num, train[bin_cols].values, x_cat])\n",
    "Y = train['default'].values\n",
    "\n",
    "id_test = test.client_id\n",
    "test = np.hstack([y_num, test[bin_cols].values, y_cat])"
   ]
  },
  {
   "cell_type": "code",
   "execution_count": 54,
   "metadata": {},
   "outputs": [],
   "source": [
    "X_train, X_test, y_train, y_test = train_test_split(X, Y, test_size=0.30, random_state=RANDOM_SEED, shuffle = True)"
   ]
  },
  {
   "cell_type": "markdown",
   "execution_count": null,
   "metadata": {},
   "source": [
    "## Регуляризация"
   ]
  },
  {
   "cell_type": "markdown",
   "execution_count": null,
   "metadata": {},
   "source": [
    "Скажу честно, с регуляризацией до конца не разобрался, решил просто взять два варианта: из исходного блокнота и из блокнота ребят (Голобоков, Соколов), которые выставили свой ноутбук. Вариант из исходного ноутбука показал не очень хорошие результаты, практически не улучшив модель."
   ]
  },
  {
   "cell_type": "code",
   "execution_count": 55,
   "metadata": {},
   "outputs": [
    {
     "name": "stdout",
     "output_type": "stream",
     "text": [
      "Лучший penalty: l2\n",
      "Лучшее C: 2.7825594022071245\n"
     ]
    }
   ],
   "source": [
    "from sklearn.model_selection import GridSearchCV\n",
    "\n",
    "# Зададим ограничения для параметра регуляризации\n",
    "C = np.logspace(0, 4, 10)\n",
    "\n",
    "penalty = ['l1', 'l2']\n",
    "hyperparameters = dict(C=C, penalty=penalty)\n",
    "model = LogisticRegression()\n",
    "model.fit(X_train, y_train)\n",
    "\n",
    "clf = GridSearchCV(model, hyperparameters, cv=5, verbose=0)\n",
    "\n",
    "best_model = clf.fit(X_train, y_train)\n",
    "\n",
    "print('Лучший penalty:', best_model.best_estimator_.get_params()['penalty'])\n",
    "print('Лучшее C:', best_model.best_estimator_.get_params()['C'])"
   ]
  },
  {
   "cell_type": "code",
   "execution_count": 56,
   "metadata": {},
   "outputs": [
    {
     "name": "stdout",
     "output_type": "stream",
     "text": [
      "\tC: 1.0\n",
      "\tclass_weight: 'balanced'\n",
      "\tdual: False\n",
      "\tfit_intercept: True\n",
      "\tintercept_scaling: 1\n",
      "\tl1_ratio: None\n",
      "\tmax_iter: 100\n",
      "\tmulti_class: 'auto'\n",
      "\tn_jobs: None\n",
      "\tpenalty: 'none'\n",
      "\trandom_state: 42\n",
      "\tsolver: 'sag'\n",
      "\ttol: 0.0001\n",
      "\tverbose: 0\n",
      "\twarm_start: False\n",
      "Accuracy: 0.6660\n",
      "Precision: 0.2262\n",
      "Recall: 0.6860\n",
      "F1: 0.3403\n"
     ]
    }
   ],
   "source": [
    "model = LogisticRegression(random_state=RANDOM_SEED)\n",
    "\n",
    "param_grid = [\n",
    "    {'penalty': ['l1'], 'solver': ['liblinear', 'lbfgs'], 'class_weight':['none', 'balanced'], 'multi_class': ['auto','ovr'], 'max_iter':[100],'tol':[1e-4]},\n",
    "    {'penalty': ['l2'], 'solver': ['newton-cg', 'lbfgs', 'liblinear', 'sag', 'saga'], 'class_weight':['none', 'balanced'], 'multi_class': ['auto','ovr'], 'max_iter':[100],'tol':[1e-4]},\n",
    "    {'penalty': ['none'], 'solver': ['newton-cg', 'lbfgs', 'sag', 'saga'], 'class_weight':['none', 'balanced'], 'multi_class': ['auto','ovr'], 'max_iter':[100],'tol':[1e-4]},\n",
    "]\n",
    "gridsearch = GridSearchCV(model, param_grid, scoring='f1', n_jobs=-1, cv=5)\n",
    "gridsearch.fit(X_train, y_train)\n",
    "model = gridsearch.best_estimator_\n",
    "##печатаем параметры\n",
    "best_parameters = model.get_params()\n",
    "for param_name in sorted(best_parameters.keys()):\n",
    "        print('\\t%s: %r' % (param_name, best_parameters[param_name]))\n",
    "    ##печатаем метрики\n",
    "preds = model.predict(X_test)\n",
    "print('Accuracy: %.4f' % accuracy_score(y_test, preds))\n",
    "print('Precision: %.4f' % precision_score(y_test, preds))\n",
    "print('Recall: %.4f' % recall_score(y_test, preds))\n",
    "print('F1: %.4f' % f1_score(y_test, preds))"
   ]
  },
  {
   "cell_type": "markdown",
   "execution_count": null,
   "metadata": {},
   "source": [
    "Обучим модели по всем вариантам: без регуляризации, с предложенной в примере (l2) и с предложенной парнями (l1)"
   ]
  },
  {
   "cell_type": "code",
   "execution_count": 57,
   "metadata": {},
   "outputs": [],
   "source": [
    "lgr0 = LogisticRegression()\n",
    "lgr1 = LogisticRegression(penalty = 'l2', C=1, max_iter=500)\n",
    "lgr2 = LogisticRegression(random_state=RANDOM_SEED, C=1, class_weight= 'balanced', dual= False, fit_intercept= True,\n",
    "                         intercept_scaling= 1, l1_ratio= None, multi_class= 'auto', n_jobs= None, penalty= 'l1',\n",
    "                         solver = 'liblinear', verbose= 0, warm_start= False)\n",
    "lgr0.fit(X_train, y_train)\n",
    "lgr1.fit(X_train, y_train)\n",
    "lgr2.fit(X_train, y_train)\n",
    "\n",
    "y_pred = np.zeros(shape=(y_test.shape[0],10))\n",
    "\n",
    "y_pred[:,0] = lgr0.predict(X_test)\n",
    "y_pred[:,1] = lgr1.predict(X_test)\n",
    "y_pred[:,2] = lgr2.predict(X_test)"
   ]
  },
  {
   "cell_type": "markdown",
   "execution_count": null,
   "metadata": {},
   "source": [
    "## Оценка качества модели"
   ]
  },
  {
   "cell_type": "markdown",
   "execution_count": null,
   "metadata": {},
   "source": [
    "### Кривая ROC-AUC"
   ]
  },
  {
   "cell_type": "code",
   "execution_count": 58,
   "metadata": {},
   "outputs": [
    {
     "data": {
      "image/png": "[encoded data removed]",
      "text/plain": [
       "<Figure size 432x288 with 1 Axes>"
      ]
     },
     "metadata": {
      "needs_background": "light"
     },
     "output_type": "display_data"
    },
    {
     "data": {
      "image/png": "[encoded data removed]",
      "text/plain": [
       "<Figure size 432x288 with 1 Axes>"
      ]
     },
     "metadata": {
      "needs_background": "light"
     },
     "output_type": "display_data"
    },
    {
     "data": {
      "image/png": "[encoded data removed]",
      "text/plain": [
       "<Figure size 432x288 with 1 Axes>"
      ]
     },
     "metadata": {
      "needs_background": "light"
     },
     "output_type": "display_data"
    },
    {
     "data": {
      "text/plain": [
       "(None, None, None)"
      ]
     },
     "execution_count": 58,
     "metadata": {},
     "output_type": "execute_result"
    }
   ],
   "source": [
    "def show_ROC_AUC(lgr):    \n",
    "    probs = lgr.predict_proba(X_test)\n",
    "    probs = probs[:,1]\n",
    "\n",
    "    fpr, tpr, threshold = roc_curve(y_test, probs)\n",
    "    roc_auc = roc_auc_score(y_test, probs)\n",
    "    plt.figure()\n",
    "    plt.plot([0, 1], label='Baseline', linestyle='--')\n",
    "    plt.plot(fpr, tpr, label = 'Regression')\n",
    "    plt.title('Logistic Regression ROC AUC = %0.3f' % roc_auc)\n",
    "    plt.ylabel('True Positive Rate')\n",
    "    plt.xlabel('False Positive Rate')\n",
    "    plt.legend(loc = 'lower right')\n",
    "    plt.show()\n",
    "    \n",
    "show_ROC_AUC(lgr0), show_ROC_AUC(lgr1), show_ROC_AUC(lgr2)"
   ]
  },
  {
   "cell_type": "markdown",
   "execution_count": null,
   "metadata": {},
   "source": [
    "Кривые практически не отличаются"
   ]
  },
  {
   "cell_type": "markdown",
   "execution_count": null,
   "metadata": {},
   "source": [
    "### Метрики"
   ]
  },
  {
   "cell_type": "code",
   "execution_count": 59,
   "metadata": {},
   "outputs": [
    {
     "name": "stdout",
     "output_type": "stream",
     "text": [
      "Метрики для модели  0\n",
      "accuracy: 0.874\n",
      "precision: 0.451\n",
      "recall: 0.023\n",
      "f1 score: 0.044\n",
      "Метрики для модели  1\n",
      "accuracy: 0.874\n",
      "precision: 0.451\n",
      "recall: 0.023\n",
      "f1 score: 0.044\n",
      "Метрики для модели  2\n",
      "accuracy: 0.666\n",
      "precision: 0.226\n",
      "recall: 0.686\n",
      "f1 score: 0.340\n"
     ]
    }
   ],
   "source": [
    "def show_metrics(y_pred,name = ''):\n",
    "    print('Метрики для модели ', name)\n",
    "    print('accuracy: {:.3f}'.format(accuracy_score(y_test,y_pred)))\n",
    "    print('precision: {:.3f}'.format(precision_score(y_test,y_pred)))\n",
    "    print('recall: {:.3f}'.format(recall_score(y_test,y_pred)))\n",
    "    print('f1 score: {:.3f}'.format(f1_score(y_test,y_pred)))\n",
    "\n",
    "for i in range(3):\n",
    "    show_metrics(y_pred[:,i],i)\n",
    "    "
   ]
  },
  {
   "cell_type": "markdown",
   "execution_count": null,
   "metadata": {},
   "source": [
    "Модель lgr2 имеет несколько худшую точность, зато намного лучший f1 score. Разницы же между первыми двумя моделями практически нет.\n",
    "Учитывая, что основная задача - не точность, а не дать ненадежному клиенту кредит, будем дальше работать с lgr2."
   ]
  },
  {
   "cell_type": "markdown",
   "execution_count": null,
   "metadata": {},
   "source": [
    "### Матрица ошибок"
   ]
  },
  {
   "cell_type": "code",
   "execution_count": 60,
   "metadata": {},
   "outputs": [
    {
     "data": {
      "image/png": "[encoded data removed]",
      "text/plain": [
       "<Figure size 720x504 with 2 Axes>"
      ]
     },
     "metadata": {
      "needs_background": "light"
     },
     "output_type": "display_data"
    },
    {
     "data": {
      "image/png": "[encoded data removed]",
      "text/plain": [
       "<Figure size 720x504 with 2 Axes>"
      ]
     },
     "metadata": {
      "needs_background": "light"
     },
     "output_type": "display_data"
    },
    {
     "data": {
      "image/png": "[encoded data removed]",
      "text/plain": [
       "<Figure size 720x504 with 2 Axes>"
      ]
     },
     "metadata": {
      "needs_background": "light"
     },
     "output_type": "display_data"
    }
   ],
   "source": [
    "def show_conf_mat(y_pred,name = ''):\n",
    "    conf_mat = confusion_matrix(y_test, y_pred).T\n",
    "    df_cm = pd.DataFrame(conf_mat)\n",
    "    plt.figure(figsize = (10,7))\n",
    "    sns.heatmap(df_cm, annot=True)\n",
    "    \n",
    "for i in range(3):\n",
    "    show_conf_mat(y_pred[:,i],i)"
   ]
  },
  {
   "cell_type": "markdown",
   "execution_count": null,
   "metadata": {},
   "source": [
    "Несмотря на высокую точность первых двух моделей результаты не радуют - так мы всем раздадим деньги банка и будем искать новую работу..\n",
    "Поэтому да, lgr2 выглядит здесь намного предпочтительнее."
   ]
  },
  {
   "cell_type": "markdown",
   "execution_count": null,
   "metadata": {},
   "source": [
    "### Кросс валидация"
   ]
  },
  {
   "cell_type": "markdown",
   "execution_count": null,
   "metadata": {},
   "source": [
    "Для проверки устойчивости модели"
   ]
  },
  {
   "cell_type": "code",
   "execution_count": 61,
   "metadata": {},
   "outputs": [
    {
     "name": "stdout",
     "output_type": "stream",
     "text": [
      "Значения:  [0.75228908 0.72931655 0.72792861 0.73489989 0.75096617 0.74140853\n",
      " 0.74467492 0.728146   0.73834837 0.71895438]\n",
      "Среднее: 0.7367\n",
      "Отклонение: 0.0103\n"
     ]
    }
   ],
   "source": [
    "cross_val = cross_val_score(lgr2, X_test, y_test, cv=10, scoring='roc_auc')\n",
    "\n",
    "print('Значения: ',cross_val)\n",
    "print('Среднее: {:.4f}'.format(cross_val.mean()))\n",
    "print('Отклонение: {:.4f}'.format(cross_val.std()))"
   ]
  },
  {
   "cell_type": "markdown",
   "execution_count": null,
   "metadata": {},
   "source": [
    "### Оценка вклада признаков в модели"
   ]
  },
  {
   "cell_type": "markdown",
   "execution_count": null,
   "metadata": {},
   "source": [
    "Вот непонятно зачем пример увел нас от dataset, сейчас X_train это нечитаемая матрица..\n",
    "\n",
    "X = np.hstack([x_num, train[bin_cols].values, x_cat])"
   ]
  },
  {
   "cell_type": "code",
   "execution_count": 62,
   "metadata": {},
   "outputs": [
    {
     "name": "stdout",
     "output_type": "stream",
     "text": [
      "[[ 0.00000000e+00  1.37005210e-01  5.24502533e-01  4.90500376e-01\n",
      "   5.18235678e-01 -2.54001441e-01  0.00000000e+00  3.32168313e-01\n",
      "   0.00000000e+00  0.00000000e+00 -1.82662755e-01 -1.01368360e+00\n",
      "   3.15274409e-01  2.70009275e-01  1.66297669e-01 -1.00269891e-01\n",
      "   1.35432425e-01 -4.99020913e-01 -2.58572435e-01 -8.93551190e-01\n",
      "   4.20628987e-01  2.78569776e-01 -3.52194603e-03 -2.71643598e-01\n",
      "  -1.89770579e-01 -2.27178143e-01 -1.15712302e+00 -3.33032001e-02\n",
      "  -3.26024896e-01  3.79427060e-01  2.13600152e-01 -6.44156318e-02\n",
      "   4.51717399e-01  0.00000000e+00 -2.82054486e-01 -1.34261114e-05\n",
      "   1.36585917e-01 -3.09638836e-01  0.00000000e+00 -6.71093094e-02\n",
      "   1.65693398e-01  0.00000000e+00  9.12959569e-02 -1.05867308e-01\n",
      "  -2.63671142e-01 -2.74362123e-01 -6.66601623e-02  0.00000000e+00\n",
      "   9.30258960e-02  1.36865390e-01 -5.07324711e-01 -1.26389635e-01\n",
      "   0.00000000e+00  1.35430577e-01]]\n"
     ]
    }
   ],
   "source": [
    "print(lgr2.coef_)"
   ]
  },
  {
   "cell_type": "markdown",
   "execution_count": null,
   "metadata": {},
   "source": [
    "Я понимаю конечно, что надо бы написать это все кодом.. И удалить лишние признаки.\n",
    "В общем, в следующий раз лучше объединяться в команду) Не стал удалять"
   ]
  },
  {
   "cell_type": "markdown",
   "execution_count": null,
   "metadata": {},
   "source": [
    "## Интереса ради"
   ]
  },
  {
   "cell_type": "markdown",
   "execution_count": null,
   "metadata": {},
   "source": [
    "Просто интересно, если сократить выборку до сбалансированной, может она будет лучше предсказывать?"
   ]
  },
  {
   "cell_type": "code",
   "execution_count": 63,
   "metadata": {},
   "outputs": [],
   "source": [
    "train1 = train.drop(['client_id','app_date'], axis=1)"
   ]
  },
  {
   "cell_type": "code",
   "execution_count": 64,
   "metadata": {},
   "outputs": [],
   "source": [
    "# Преобразуем бинарные и категории\n",
    "label_encoder = LabelEncoder()\n",
    "\n",
    "for column in bin_cols:\n",
    "    train1[column] = label_encoder.fit_transform(train1[column])\n",
    "    \n",
    "train1=pd.get_dummies(train1, prefix=cat_cols, columns=cat_cols)"
   ]
  },
  {
   "cell_type": "code",
   "execution_count": 65,
   "metadata": {},
   "outputs": [
    {
     "name": "stdout",
     "output_type": "stream",
     "text": [
      "accuracy: 0.621\n",
      "precision: 0.618\n",
      "recall: 0.584\n",
      "f1 score: 0.601\n"
     ]
    }
   ],
   "source": [
    "# Разбиваем выборку на дефолтных клиентов и нет\n",
    "train1_def = train1[train1['default'] == 1]\n",
    "train1_ok = train1[train1['default'] == 0]\n",
    "\n",
    "# Объединяем обе выборки, оставим количество недефолтных клиентов примерно равным дефолтному \n",
    "train1_bal = train1_def.merge(train1_ok[:10000], how = 'outer')\n",
    "\n",
    "# Разбиение\n",
    "y1 = train1_bal['default']\n",
    "X1 = train1_bal.drop(['default'], axis=1)\n",
    "X1_train, X1_test, y1_train, y1_test = train_test_split(X1, y1, test_size=0.2, random_state=RANDOM_SEED)\n",
    "\n",
    "# Нормализация\n",
    "scaler = StandardScaler()\n",
    "num_cols1 = ['age', 'score_bki', 'region_rating', 'income']\n",
    "\n",
    "scaler.fit(X1_train[num_cols1])\n",
    "X1_train_norm = scaler.transform(X1_train[num_cols1])\n",
    "scaler.fit(X1_test[num_cols1])\n",
    "X1_test_norm = scaler.transform(X1_test[num_cols1])\n",
    "\n",
    "# Модель\n",
    "model = LogisticRegression(random_state=RANDOM_SEED)\n",
    "model.fit(X1_train_norm, y1_train)\n",
    "y1_pred = model.predict(X1_test_norm)\n",
    "\n",
    "print('accuracy: {:.3f}'.format(accuracy_score(y1_test,y1_pred)))\n",
    "print('precision: {:.3f}'.format(precision_score(y1_test,y1_pred)))\n",
    "print('recall: {:.3f}'.format(recall_score(y1_test,y1_pred)))\n",
    "print('f1 score: {:.3f}'.format(f1_score(y1_test,y1_pred)))"
   ]
  },
  {
   "cell_type": "code",
   "execution_count": 66,
   "metadata": {},
   "outputs": [
    {
     "data": {
      "text/plain": [
       "<matplotlib.axes._subplots.AxesSubplot at 0x7f5c6e2356d0>"
      ]
     },
     "execution_count": 66,
     "metadata": {},
     "output_type": "execute_result"
    },
    {
     "data": {
      "image/png": "[encoded data removed]",
      "text/plain": [
       "<Figure size 720x504 with 2 Axes>"
      ]
     },
     "metadata": {
      "needs_background": "light"
     },
     "output_type": "display_data"
    }
   ],
   "source": [
    "conf_mat1 = confusion_matrix(y1_test, y1_pred).T\n",
    "df_cm1 = pd.DataFrame(conf_mat1)\n",
    "plt.figure(figsize = (10,7))\n",
    "sns.heatmap(df_cm1, annot=True)"
   ]
  },
  {
   "cell_type": "markdown",
   "execution_count": null,
   "metadata": {},
   "source": [
    "Хоть она и нашла существенно меньше правильных ответов, чем наша итоговая модель, но все же первая ее итерация была намного успешнее. Возможно, нужно было идти по этому пути"
   ]
  },
  {
   "cell_type": "markdown",
   "execution_count": null,
   "metadata": {},
   "source": [
    "## Submission"
   ]
  },
  {
   "cell_type": "code",
   "execution_count": 67,
   "metadata": {},
   "outputs": [
    {
     "data": {
      "text/html": [
       "<div>\n",
       "<style scoped>\n",
       "    .dataframe tbody tr th:only-of-type {\n",
       "        vertical-align: middle;\n",
       "    }\n",
       "\n",
       "    .dataframe tbody tr th {\n",
       "        vertical-align: top;\n",
       "    }\n",
       "\n",
       "    .dataframe thead th {\n",
       "        text-align: right;\n",
       "    }\n",
       "</style>\n",
       "<table border=\"1\" class=\"dataframe\">\n",
       "  <thead>\n",
       "    <tr style=\"text-align: right;\">\n",
       "      <th></th>\n",
       "      <th>client_id</th>\n",
       "      <th>default</th>\n",
       "    </tr>\n",
       "  </thead>\n",
       "  <tbody>\n",
       "    <tr>\n",
       "      <th>0</th>\n",
       "      <td>74835</td>\n",
       "      <td>0.215491</td>\n",
       "    </tr>\n",
       "    <tr>\n",
       "      <th>1</th>\n",
       "      <td>17527</td>\n",
       "      <td>0.800330</td>\n",
       "    </tr>\n",
       "    <tr>\n",
       "      <th>2</th>\n",
       "      <td>75683</td>\n",
       "      <td>0.327532</td>\n",
       "    </tr>\n",
       "    <tr>\n",
       "      <th>3</th>\n",
       "      <td>26883</td>\n",
       "      <td>0.368907</td>\n",
       "    </tr>\n",
       "    <tr>\n",
       "      <th>4</th>\n",
       "      <td>28862</td>\n",
       "      <td>0.137369</td>\n",
       "    </tr>\n",
       "    <tr>\n",
       "      <th>...</th>\n",
       "      <td>...</td>\n",
       "      <td>...</td>\n",
       "    </tr>\n",
       "    <tr>\n",
       "      <th>36344</th>\n",
       "      <td>83775</td>\n",
       "      <td>0.803422</td>\n",
       "    </tr>\n",
       "    <tr>\n",
       "      <th>36345</th>\n",
       "      <td>106254</td>\n",
       "      <td>0.103949</td>\n",
       "    </tr>\n",
       "    <tr>\n",
       "      <th>36346</th>\n",
       "      <td>81852</td>\n",
       "      <td>0.799155</td>\n",
       "    </tr>\n",
       "    <tr>\n",
       "      <th>36347</th>\n",
       "      <td>1971</td>\n",
       "      <td>0.655298</td>\n",
       "    </tr>\n",
       "    <tr>\n",
       "      <th>36348</th>\n",
       "      <td>69044</td>\n",
       "      <td>0.723837</td>\n",
       "    </tr>\n",
       "  </tbody>\n",
       "</table>\n",
       "<p>36349 rows × 2 columns</p>\n",
       "</div>"
      ],
      "text/plain": [
       "       client_id   default\n",
       "0          74835  0.215491\n",
       "1          17527  0.800330\n",
       "2          75683  0.327532\n",
       "3          26883  0.368907\n",
       "4          28862  0.137369\n",
       "...          ...       ...\n",
       "36344      83775  0.803422\n",
       "36345     106254  0.103949\n",
       "36346      81852  0.799155\n",
       "36347       1971  0.655298\n",
       "36348      69044  0.723837\n",
       "\n",
       "[36349 rows x 2 columns]"
      ]
     },
     "execution_count": 67,
     "metadata": {},
     "output_type": "execute_result"
    }
   ],
   "source": [
    "lgr = LogisticRegression(random_state=RANDOM_SEED, C=1, class_weight= 'balanced', dual= False, fit_intercept= True,\n",
    "                         intercept_scaling= 1, l1_ratio= None, multi_class= 'auto', n_jobs= None, penalty= 'l1',\n",
    "                         solver = 'liblinear', verbose= 0, warm_start= False)\n",
    "lgr.fit(X, Y)\n",
    "probs = lgr.predict_proba(test)\n",
    "probs = probs[:,1]\n",
    "\n",
    "\n",
    "my_submission = pd.DataFrame({'client_id': id_test, 'default': probs})\n",
    "\n",
    "my_submission.to_csv('submission.csv', index=False)\n",
    "\n",
    "my_submission"
   ]
  },
  {
   "cell_type": "code",
   "execution_count": null,
   "metadata": {},
   "outputs": [],
   "source": []
  },
  {
   "cell_type": "code",
   "execution_count": null,
   "metadata": {},
   "outputs": [],
   "source": []
  },
  {
   "cell_type": "code",
   "execution_count": null,
   "metadata": {},
   "outputs": [],
   "source": []
  }
 ],
 "metadata": {
  "kernelspec": {
   "display_name": "Python 3",
   "language": "python",
   "name": "python3"
  },
  "language_info": {
   "codemirror_mode": {
    "name": "ipython",
    "version": 3
   },
   "file_extension": ".py",
   "mimetype": "text/x-python",
   "name": "python",
   "nbconvert_exporter": "python",
   "pygments_lexer": "ipython3",
   "version": "3.7.6"
  }
 },
 "nbformat": 4,
 "nbformat_minor": 4
}
